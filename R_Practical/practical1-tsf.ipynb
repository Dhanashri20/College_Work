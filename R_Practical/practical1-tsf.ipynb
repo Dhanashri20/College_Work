{
 "cells": [
  {
   "cell_type": "raw",
   "id": "a10523d8",
   "metadata": {
    "_execution_state": "idle",
    "_uuid": "051d70d956493feee0c6d64651c6a088724dca2a",
    "papermill": {
     "duration": 0.031393,
     "end_time": "2021-08-06T07:13:57.786285",
     "exception": false,
     "start_time": "2021-08-06T07:13:57.754892",
     "status": "completed"
    },
    "tags": []
   },
   "source": [
    "# This R environment comes with many helpful analytics packages installed\n",
    "# It is defined by the kaggle/rstats Docker image: https://github.com/kaggle/docker-rstats\n",
    "# For example, here's a helpful package to load\n",
    "\n",
    "library(tidyverse) # metapackage of all tidyverse packages\n",
    "\n",
    "# Input data files are available in the read-only \"../input/\" directory\n",
    "# For example, running this (by clicking run or pressing Shift+Enter) will list all files under the input directory\n",
    "\n",
    "list.files(path = \"../input\")\n",
    "\n",
    "# You can write up to 20GB to the current directory (/kaggle/working/) that gets preserved as output when you create a version using \"Save & Run All\" \n",
    "# You can also write temporary files to /kaggle/temp/, but they won't be saved outside of the current session"
   ]
  },
  {
   "cell_type": "markdown",
   "id": "45bd9662",
   "metadata": {
    "papermill": {
     "duration": 0.029811,
     "end_time": "2021-08-06T07:13:57.846214",
     "exception": false,
     "start_time": "2021-08-06T07:13:57.816403",
     "status": "completed"
    },
    "tags": []
   },
   "source": [
    "# TSF PRACTICAL 1: SIMPLE LINEAR REGRESSION\n",
    "* Life Test example\n",
    "* Practical 1"
   ]
  },
  {
   "cell_type": "markdown",
   "id": "0d6434a3",
   "metadata": {
    "papermill": {
     "duration": 0.030118,
     "end_time": "2021-08-06T07:13:57.906352",
     "exception": false,
     "start_time": "2021-08-06T07:13:57.876234",
     "status": "completed"
    },
    "tags": []
   },
   "source": [
    "# Simple linear regression -\n",
    "is used to estimate the relationship between two quantitative variables. You can use simple linear regression when you want to know:\n",
    "\n",
    "* How strong the relationship is between two variables\n",
    "* The value of the dependent variable at a certain value of the independent variable"
   ]
  },
  {
   "cell_type": "markdown",
   "id": "4c33833d",
   "metadata": {
    "papermill": {
     "duration": 0.030067,
     "end_time": "2021-08-06T07:13:57.966682",
     "exception": false,
     "start_time": "2021-08-06T07:13:57.936615",
     "status": "completed"
    },
    "tags": []
   },
   "source": [
    "# 1] Life Test Example"
   ]
  },
  {
   "cell_type": "code",
   "execution_count": 1,
   "id": "623f2789",
   "metadata": {
    "execution": {
     "iopub.execute_input": "2021-08-06T07:13:58.033119Z",
     "iopub.status.busy": "2021-08-06T07:13:58.030609Z",
     "iopub.status.idle": "2021-08-06T07:13:58.182584Z",
     "shell.execute_reply": "2021-08-06T07:13:58.181013Z"
    },
    "papermill": {
     "duration": 0.186106,
     "end_time": "2021-08-06T07:13:58.182747",
     "exception": false,
     "start_time": "2021-08-06T07:13:57.996641",
     "status": "completed"
    },
    "tags": []
   },
   "outputs": [],
   "source": [
    "data_lt=read.csv(\"../input/lifetestdata/Lifetest.csv\")"
   ]
  },
  {
   "cell_type": "code",
   "execution_count": 2,
   "id": "7b440689",
   "metadata": {
    "execution": {
     "iopub.execute_input": "2021-08-06T07:13:58.279680Z",
     "iopub.status.busy": "2021-08-06T07:13:58.247068Z",
     "iopub.status.idle": "2021-08-06T07:13:58.305173Z",
     "shell.execute_reply": "2021-08-06T07:13:58.303559Z"
    },
    "papermill": {
     "duration": 0.09218,
     "end_time": "2021-08-06T07:13:58.305319",
     "exception": false,
     "start_time": "2021-08-06T07:13:58.213139",
     "status": "completed"
    },
    "tags": []
   },
   "outputs": [
    {
     "data": {
      "text/html": [
       "<table class=\"dataframe\">\n",
       "<caption>A data.frame: 6 × 2</caption>\n",
       "<thead>\n",
       "\t<tr><th></th><th scope=col>Arm_Strength</th><th scope=col>Dynamic_Lift</th></tr>\n",
       "\t<tr><th></th><th scope=col>&lt;dbl&gt;</th><th scope=col>&lt;dbl&gt;</th></tr>\n",
       "</thead>\n",
       "<tbody>\n",
       "\t<tr><th scope=row>1</th><td>17.3</td><td> 71.4</td></tr>\n",
       "\t<tr><th scope=row>2</th><td>19.5</td><td> 48.3</td></tr>\n",
       "\t<tr><th scope=row>3</th><td>19.5</td><td> 88.3</td></tr>\n",
       "\t<tr><th scope=row>4</th><td>19.7</td><td> 75.0</td></tr>\n",
       "\t<tr><th scope=row>5</th><td>22.9</td><td> 91.7</td></tr>\n",
       "\t<tr><th scope=row>6</th><td>23.1</td><td>100.0</td></tr>\n",
       "</tbody>\n",
       "</table>\n"
      ],
      "text/latex": [
       "A data.frame: 6 × 2\n",
       "\\begin{tabular}{r|ll}\n",
       "  & Arm\\_Strength & Dynamic\\_Lift\\\\\n",
       "  & <dbl> & <dbl>\\\\\n",
       "\\hline\n",
       "\t1 & 17.3 &  71.4\\\\\n",
       "\t2 & 19.5 &  48.3\\\\\n",
       "\t3 & 19.5 &  88.3\\\\\n",
       "\t4 & 19.7 &  75.0\\\\\n",
       "\t5 & 22.9 &  91.7\\\\\n",
       "\t6 & 23.1 & 100.0\\\\\n",
       "\\end{tabular}\n"
      ],
      "text/markdown": [
       "\n",
       "A data.frame: 6 × 2\n",
       "\n",
       "| <!--/--> | Arm_Strength &lt;dbl&gt; | Dynamic_Lift &lt;dbl&gt; |\n",
       "|---|---|---|\n",
       "| 1 | 17.3 |  71.4 |\n",
       "| 2 | 19.5 |  48.3 |\n",
       "| 3 | 19.5 |  88.3 |\n",
       "| 4 | 19.7 |  75.0 |\n",
       "| 5 | 22.9 |  91.7 |\n",
       "| 6 | 23.1 | 100.0 |\n",
       "\n"
      ],
      "text/plain": [
       "  Arm_Strength Dynamic_Lift\n",
       "1 17.3          71.4       \n",
       "2 19.5          48.3       \n",
       "3 19.5          88.3       \n",
       "4 19.7          75.0       \n",
       "5 22.9          91.7       \n",
       "6 23.1         100.0       "
      ]
     },
     "metadata": {},
     "output_type": "display_data"
    }
   ],
   "source": [
    "head(data_lt)"
   ]
  },
  {
   "cell_type": "code",
   "execution_count": 3,
   "id": "be1be2aa",
   "metadata": {
    "execution": {
     "iopub.execute_input": "2021-08-06T07:13:58.374592Z",
     "iopub.status.busy": "2021-08-06T07:13:58.372646Z",
     "iopub.status.idle": "2021-08-06T07:13:58.390900Z",
     "shell.execute_reply": "2021-08-06T07:13:58.389279Z"
    },
    "papermill": {
     "duration": 0.053351,
     "end_time": "2021-08-06T07:13:58.391050",
     "exception": false,
     "start_time": "2021-08-06T07:13:58.337699",
     "status": "completed"
    },
    "tags": []
   },
   "outputs": [
    {
     "data": {
      "text/html": [
       "<style>\n",
       ".list-inline {list-style: none; margin:0; padding: 0}\n",
       ".list-inline>li {display: inline-block}\n",
       ".list-inline>li:not(:last-child)::after {content: \"\\00b7\"; padding: 0 .5ex}\n",
       "</style>\n",
       "<ol class=list-inline><li>25</li><li>2</li></ol>\n"
      ],
      "text/latex": [
       "\\begin{enumerate*}\n",
       "\\item 25\n",
       "\\item 2\n",
       "\\end{enumerate*}\n"
      ],
      "text/markdown": [
       "1. 25\n",
       "2. 2\n",
       "\n",
       "\n"
      ],
      "text/plain": [
       "[1] 25  2"
      ]
     },
     "metadata": {},
     "output_type": "display_data"
    }
   ],
   "source": [
    "dim(data_lt)"
   ]
  },
  {
   "cell_type": "code",
   "execution_count": 4,
   "id": "9f930a85",
   "metadata": {
    "execution": {
     "iopub.execute_input": "2021-08-06T07:13:58.458740Z",
     "iopub.status.busy": "2021-08-06T07:13:58.456985Z",
     "iopub.status.idle": "2021-08-06T07:13:58.471838Z",
     "shell.execute_reply": "2021-08-06T07:13:58.470543Z"
    },
    "papermill": {
     "duration": 0.049955,
     "end_time": "2021-08-06T07:13:58.471973",
     "exception": false,
     "start_time": "2021-08-06T07:13:58.422018",
     "status": "completed"
    },
    "tags": []
   },
   "outputs": [],
   "source": [
    "x=data_lt$Arm_Strength\n",
    "y=data_lt$Dynamic_Lift"
   ]
  },
  {
   "cell_type": "code",
   "execution_count": 5,
   "id": "bf4ce772",
   "metadata": {
    "execution": {
     "iopub.execute_input": "2021-08-06T07:13:58.541625Z",
     "iopub.status.busy": "2021-08-06T07:13:58.541012Z",
     "iopub.status.idle": "2021-08-06T07:13:58.768748Z",
     "shell.execute_reply": "2021-08-06T07:13:58.767501Z"
    },
    "papermill": {
     "duration": 0.265475,
     "end_time": "2021-08-06T07:13:58.768876",
     "exception": false,
     "start_time": "2021-08-06T07:13:58.503401",
     "status": "completed"
    },
    "tags": []
   },
   "outputs": [
    {
     "data": {
      "image/png": "[encoded data removed]"
     },
     "metadata": {
      "image/png": {
       "height": 420,
       "width": 420
      }
     },
     "output_type": "display_data"
    }
   ],
   "source": [
    "plot(x,y)"
   ]
  },
  {
   "cell_type": "code",
   "execution_count": 6,
   "id": "d0995b7a",
   "metadata": {
    "execution": {
     "iopub.execute_input": "2021-08-06T07:13:58.838103Z",
     "iopub.status.busy": "2021-08-06T07:13:58.836803Z",
     "iopub.status.idle": "2021-08-06T07:13:58.855338Z",
     "shell.execute_reply": "2021-08-06T07:13:58.853020Z"
    },
    "papermill": {
     "duration": 0.054478,
     "end_time": "2021-08-06T07:13:58.855487",
     "exception": false,
     "start_time": "2021-08-06T07:13:58.801009",
     "status": "completed"
    },
    "tags": []
   },
   "outputs": [],
   "source": [
    "model=lm(y~x,data=data_lt)"
   ]
  },
  {
   "cell_type": "code",
   "execution_count": 7,
   "id": "46b5a178",
   "metadata": {
    "execution": {
     "iopub.execute_input": "2021-08-06T07:13:58.925518Z",
     "iopub.status.busy": "2021-08-06T07:13:58.924061Z",
     "iopub.status.idle": "2021-08-06T07:13:58.939650Z",
     "shell.execute_reply": "2021-08-06T07:13:58.938265Z"
    },
    "papermill": {
     "duration": 0.052163,
     "end_time": "2021-08-06T07:13:58.939788",
     "exception": false,
     "start_time": "2021-08-06T07:13:58.887625",
     "status": "completed"
    },
    "tags": []
   },
   "outputs": [
    {
     "data": {
      "text/plain": [
       "\n",
       "Call:\n",
       "lm(formula = y ~ x, data = data_lt)\n",
       "\n",
       "Coefficients:\n",
       "(Intercept)            x  \n",
       "    64.5004       0.5614  \n"
      ]
     },
     "metadata": {},
     "output_type": "display_data"
    }
   ],
   "source": [
    "model"
   ]
  },
  {
   "cell_type": "markdown",
   "id": "fd89625a",
   "metadata": {
    "papermill": {
     "duration": 0.032628,
     "end_time": "2021-08-06T07:13:59.005012",
     "exception": false,
     "start_time": "2021-08-06T07:13:58.972384",
     "status": "completed"
    },
    "tags": []
   },
   "source": [
    "LEAST SQUARE ESTIMATOR"
   ]
  },
  {
   "cell_type": "code",
   "execution_count": 8,
   "id": "277fc782",
   "metadata": {
    "execution": {
     "iopub.execute_input": "2021-08-06T07:13:59.076851Z",
     "iopub.status.busy": "2021-08-06T07:13:59.076203Z",
     "iopub.status.idle": "2021-08-06T07:13:59.091117Z",
     "shell.execute_reply": "2021-08-06T07:13:59.089724Z"
    },
    "papermill": {
     "duration": 0.05341,
     "end_time": "2021-08-06T07:13:59.091292",
     "exception": false,
     "start_time": "2021-08-06T07:13:59.037882",
     "status": "completed"
    },
    "tags": []
   },
   "outputs": [],
   "source": [
    "b=model$coefficients\n",
    "e=model$residuals\n",
    "yhat=model$fitted.values"
   ]
  },
  {
   "cell_type": "code",
   "execution_count": 9,
   "id": "919d683d",
   "metadata": {
    "execution": {
     "iopub.execute_input": "2021-08-06T07:13:59.167132Z",
     "iopub.status.busy": "2021-08-06T07:13:59.161738Z",
     "iopub.status.idle": "2021-08-06T07:13:59.181790Z",
     "shell.execute_reply": "2021-08-06T07:13:59.180428Z"
    },
    "papermill": {
     "duration": 0.056969,
     "end_time": "2021-08-06T07:13:59.181939",
     "exception": false,
     "start_time": "2021-08-06T07:13:59.124970",
     "status": "completed"
    },
    "tags": []
   },
   "outputs": [
    {
     "data": {
      "text/html": [
       "<style>\n",
       ".dl-inline {width: auto; margin:0; padding: 0}\n",
       ".dl-inline>dt, .dl-inline>dd {float: none; width: auto; display: inline-block}\n",
       ".dl-inline>dt::after {content: \":\\0020\"; padding-right: .5ex}\n",
       ".dl-inline>dt:not(:first-of-type) {padding-left: .5ex}\n",
       "</style><dl class=dl-inline><dt>(Intercept)</dt><dd>64.5004178716259</dd><dt>x</dt><dd>0.561363062672512</dd></dl>\n"
      ],
      "text/latex": [
       "\\begin{description*}\n",
       "\\item[(Intercept)] 64.5004178716259\n",
       "\\item[x] 0.561363062672512\n",
       "\\end{description*}\n"
      ],
      "text/markdown": [
       "(Intercept)\n",
       ":   64.5004178716259x\n",
       ":   0.561363062672512\n",
       "\n"
      ],
      "text/plain": [
       "(Intercept)           x \n",
       " 64.5004179   0.5613631 "
      ]
     },
     "metadata": {},
     "output_type": "display_data"
    }
   ],
   "source": [
    "b #least square estimators"
   ]
  },
  {
   "cell_type": "code",
   "execution_count": 10,
   "id": "749b9721",
   "metadata": {
    "execution": {
     "iopub.execute_input": "2021-08-06T07:13:59.254455Z",
     "iopub.status.busy": "2021-08-06T07:13:59.252942Z",
     "iopub.status.idle": "2021-08-06T07:13:59.269452Z",
     "shell.execute_reply": "2021-08-06T07:13:59.268146Z"
    },
    "papermill": {
     "duration": 0.053686,
     "end_time": "2021-08-06T07:13:59.269578",
     "exception": false,
     "start_time": "2021-08-06T07:13:59.215892",
     "status": "completed"
    },
    "tags": []
   },
   "outputs": [
    {
     "data": {
      "text/html": [
       "<style>\n",
       ".dl-inline {width: auto; margin:0; padding: 0}\n",
       ".dl-inline>dt, .dl-inline>dd {float: none; width: auto; display: inline-block}\n",
       ".dl-inline>dt::after {content: \":\\0020\"; padding-right: .5ex}\n",
       ".dl-inline>dt:not(:first-of-type) {padding-left: .5ex}\n",
       "</style><dl class=dl-inline><dt>1</dt><dd>-2.81199885586036</dd><dt>2</dt><dd>-27.1469975937399</dd><dt>3</dt><dd>12.8530024062601</dd><dt>4</dt><dd>-0.559270206274386</dd><dt>5</dt><dd>14.3443679931736</dd><dt>6</dt><dd>22.5320953806391</dd><dt>7</dt><dd>-6.02040272618022</dd><dt>8</dt><dd>-14.5449479512492</dd><dt>9</dt><dd>-4.99403840138723</dd><dt>10</dt><dd>8.02528006727651</dd><dt>11</dt><dd>-11.9747199327235</dd><dt>12</dt><dd>16.088462229673</dd><dt>13</dt><dd>-4.07994668912875</dd><dt>14</dt><dd>-2.81676452673226</dd><dt>15</dt><dd>-21.285173445534</dd><dt>16</dt><dd>-9.58517344553401</dd><dt>17</dt><dd>3.49028132939698</dd><dt>18</dt><dd>2.92891826672447</dd><dt>19</dt><dd>3.59051187216366</dd><dt>20</dt><dd>13.3257411528099</dd><dt>21</dt><dd>12.8205143964046</dd><dt>22</dt><dd>10.6311984519818</dd><dt>23</dt><dd>2.16278953318005</dd><dt>24</dt><dd>7.20688376967948</dd><dt>25</dt><dd>-24.1806130750193</dd></dl>\n"
      ],
      "text/latex": [
       "\\begin{description*}\n",
       "\\item[1] -2.81199885586036\n",
       "\\item[2] -27.1469975937399\n",
       "\\item[3] 12.8530024062601\n",
       "\\item[4] -0.559270206274386\n",
       "\\item[5] 14.3443679931736\n",
       "\\item[6] 22.5320953806391\n",
       "\\item[7] -6.02040272618022\n",
       "\\item[8] -14.5449479512492\n",
       "\\item[9] -4.99403840138723\n",
       "\\item[10] 8.02528006727651\n",
       "\\item[11] -11.9747199327235\n",
       "\\item[12] 16.088462229673\n",
       "\\item[13] -4.07994668912875\n",
       "\\item[14] -2.81676452673226\n",
       "\\item[15] -21.285173445534\n",
       "\\item[16] -9.58517344553401\n",
       "\\item[17] 3.49028132939698\n",
       "\\item[18] 2.92891826672447\n",
       "\\item[19] 3.59051187216366\n",
       "\\item[20] 13.3257411528099\n",
       "\\item[21] 12.8205143964046\n",
       "\\item[22] 10.6311984519818\n",
       "\\item[23] 2.16278953318005\n",
       "\\item[24] 7.20688376967948\n",
       "\\item[25] -24.1806130750193\n",
       "\\end{description*}\n"
      ],
      "text/markdown": [
       "1\n",
       ":   -2.811998855860362\n",
       ":   -27.14699759373993\n",
       ":   12.85300240626014\n",
       ":   -0.5592702062743865\n",
       ":   14.34436799317366\n",
       ":   22.53209538063917\n",
       ":   -6.020402726180228\n",
       ":   -14.54494795124929\n",
       ":   -4.9940384013872310\n",
       ":   8.0252800672765111\n",
       ":   -11.974719932723512\n",
       ":   16.08846222967313\n",
       ":   -4.0799466891287514\n",
       ":   -2.8167645267322615\n",
       ":   -21.28517344553416\n",
       ":   -9.5851734455340117\n",
       ":   3.4902813293969818\n",
       ":   2.9289182667244719\n",
       ":   3.5905118721636620\n",
       ":   13.325741152809921\n",
       ":   12.820514396404622\n",
       ":   10.631198451981823\n",
       ":   2.1627895331800524\n",
       ":   7.2068837696794825\n",
       ":   -24.1806130750193\n",
       "\n"
      ],
      "text/plain": [
       "          1           2           3           4           5           6 \n",
       " -2.8119989 -27.1469976  12.8530024  -0.5592702  14.3443680  22.5320954 \n",
       "          7           8           9          10          11          12 \n",
       " -6.0204027 -14.5449480  -4.9940384   8.0252801 -11.9747199  16.0884622 \n",
       "         13          14          15          16          17          18 \n",
       " -4.0799467  -2.8167645 -21.2851734  -9.5851734   3.4902813   2.9289183 \n",
       "         19          20          21          22          23          24 \n",
       "  3.5905119  13.3257412  12.8205144  10.6311985   2.1627895   7.2068838 \n",
       "         25 \n",
       "-24.1806131 "
      ]
     },
     "metadata": {},
     "output_type": "display_data"
    }
   ],
   "source": [
    "e"
   ]
  },
  {
   "cell_type": "code",
   "execution_count": 11,
   "id": "f25e9f96",
   "metadata": {
    "execution": {
     "iopub.execute_input": "2021-08-06T07:13:59.343101Z",
     "iopub.status.busy": "2021-08-06T07:13:59.341640Z",
     "iopub.status.idle": "2021-08-06T07:13:59.357264Z",
     "shell.execute_reply": "2021-08-06T07:13:59.355851Z"
    },
    "papermill": {
     "duration": 0.053905,
     "end_time": "2021-08-06T07:13:59.357393",
     "exception": false,
     "start_time": "2021-08-06T07:13:59.303488",
     "status": "completed"
    },
    "tags": []
   },
   "outputs": [
    {
     "data": {
      "text/html": [
       "1.4432899320127e-14"
      ],
      "text/latex": [
       "1.4432899320127e-14"
      ],
      "text/markdown": [
       "1.4432899320127e-14"
      ],
      "text/plain": [
       "[1] 1.44329e-14"
      ]
     },
     "metadata": {},
     "output_type": "display_data"
    }
   ],
   "source": [
    "sum(e)"
   ]
  },
  {
   "cell_type": "code",
   "execution_count": 12,
   "id": "5e331cef",
   "metadata": {
    "execution": {
     "iopub.execute_input": "2021-08-06T07:13:59.430596Z",
     "iopub.status.busy": "2021-08-06T07:13:59.429267Z",
     "iopub.status.idle": "2021-08-06T07:13:59.462643Z",
     "shell.execute_reply": "2021-08-06T07:13:59.461320Z"
    },
    "papermill": {
     "duration": 0.071345,
     "end_time": "2021-08-06T07:13:59.462769",
     "exception": false,
     "start_time": "2021-08-06T07:13:59.391424",
     "status": "completed"
    },
    "tags": []
   },
   "outputs": [
    {
     "data": {
      "text/html": [
       "<table class=\"dataframe\">\n",
       "<caption>A matrix: 25 × 3 of type dbl</caption>\n",
       "<thead>\n",
       "\t<tr><th></th><th scope=col>y</th><th scope=col>yhat</th><th scope=col>e</th></tr>\n",
       "</thead>\n",
       "<tbody>\n",
       "\t<tr><th scope=row>1</th><td> 71.4</td><td>74.21200</td><td> -2.8119989</td></tr>\n",
       "\t<tr><th scope=row>2</th><td> 48.3</td><td>75.44700</td><td>-27.1469976</td></tr>\n",
       "\t<tr><th scope=row>3</th><td> 88.3</td><td>75.44700</td><td> 12.8530024</td></tr>\n",
       "\t<tr><th scope=row>4</th><td> 75.0</td><td>75.55927</td><td> -0.5592702</td></tr>\n",
       "\t<tr><th scope=row>5</th><td> 91.7</td><td>77.35563</td><td> 14.3443680</td></tr>\n",
       "\t<tr><th scope=row>6</th><td>100.0</td><td>77.46790</td><td> 22.5320954</td></tr>\n",
       "\t<tr><th scope=row>7</th><td> 73.3</td><td>79.32040</td><td> -6.0204027</td></tr>\n",
       "\t<tr><th scope=row>8</th><td> 65.0</td><td>79.54495</td><td>-14.5449480</td></tr>\n",
       "\t<tr><th scope=row>9</th><td> 75.0</td><td>79.99404</td><td> -4.9940384</td></tr>\n",
       "\t<tr><th scope=row>10</th><td> 88.3</td><td>80.27472</td><td>  8.0252801</td></tr>\n",
       "\t<tr><th scope=row>11</th><td> 68.3</td><td>80.27472</td><td>-11.9747199</td></tr>\n",
       "\t<tr><th scope=row>12</th><td> 96.7</td><td>80.61154</td><td> 16.0884622</td></tr>\n",
       "\t<tr><th scope=row>13</th><td> 76.7</td><td>80.77995</td><td> -4.0799467</td></tr>\n",
       "\t<tr><th scope=row>14</th><td> 78.3</td><td>81.11676</td><td> -2.8167645</td></tr>\n",
       "\t<tr><th scope=row>15</th><td> 60.0</td><td>81.28517</td><td>-21.2851734</td></tr>\n",
       "\t<tr><th scope=row>16</th><td> 71.7</td><td>81.28517</td><td> -9.5851734</td></tr>\n",
       "\t<tr><th scope=row>17</th><td> 85.0</td><td>81.50972</td><td>  3.4902813</td></tr>\n",
       "\t<tr><th scope=row>18</th><td> 85.0</td><td>82.07108</td><td>  2.9289183</td></tr>\n",
       "\t<tr><th scope=row>19</th><td> 88.3</td><td>84.70949</td><td>  3.5905119</td></tr>\n",
       "\t<tr><th scope=row>20</th><td>100.0</td><td>86.67426</td><td> 13.3257412</td></tr>\n",
       "\t<tr><th scope=row>21</th><td>100.0</td><td>87.17949</td><td> 12.8205144</td></tr>\n",
       "\t<tr><th scope=row>22</th><td>100.0</td><td>89.36880</td><td> 10.6311985</td></tr>\n",
       "\t<tr><th scope=row>23</th><td> 91.7</td><td>89.53721</td><td>  2.1627895</td></tr>\n",
       "\t<tr><th scope=row>24</th><td>100.0</td><td>92.79312</td><td>  7.2068838</td></tr>\n",
       "\t<tr><th scope=row>25</th><td> 71.7</td><td>95.88061</td><td>-24.1806131</td></tr>\n",
       "</tbody>\n",
       "</table>\n"
      ],
      "text/latex": [
       "A matrix: 25 × 3 of type dbl\n",
       "\\begin{tabular}{r|lll}\n",
       "  & y & yhat & e\\\\\n",
       "\\hline\n",
       "\t1 &  71.4 & 74.21200 &  -2.8119989\\\\\n",
       "\t2 &  48.3 & 75.44700 & -27.1469976\\\\\n",
       "\t3 &  88.3 & 75.44700 &  12.8530024\\\\\n",
       "\t4 &  75.0 & 75.55927 &  -0.5592702\\\\\n",
       "\t5 &  91.7 & 77.35563 &  14.3443680\\\\\n",
       "\t6 & 100.0 & 77.46790 &  22.5320954\\\\\n",
       "\t7 &  73.3 & 79.32040 &  -6.0204027\\\\\n",
       "\t8 &  65.0 & 79.54495 & -14.5449480\\\\\n",
       "\t9 &  75.0 & 79.99404 &  -4.9940384\\\\\n",
       "\t10 &  88.3 & 80.27472 &   8.0252801\\\\\n",
       "\t11 &  68.3 & 80.27472 & -11.9747199\\\\\n",
       "\t12 &  96.7 & 80.61154 &  16.0884622\\\\\n",
       "\t13 &  76.7 & 80.77995 &  -4.0799467\\\\\n",
       "\t14 &  78.3 & 81.11676 &  -2.8167645\\\\\n",
       "\t15 &  60.0 & 81.28517 & -21.2851734\\\\\n",
       "\t16 &  71.7 & 81.28517 &  -9.5851734\\\\\n",
       "\t17 &  85.0 & 81.50972 &   3.4902813\\\\\n",
       "\t18 &  85.0 & 82.07108 &   2.9289183\\\\\n",
       "\t19 &  88.3 & 84.70949 &   3.5905119\\\\\n",
       "\t20 & 100.0 & 86.67426 &  13.3257412\\\\\n",
       "\t21 & 100.0 & 87.17949 &  12.8205144\\\\\n",
       "\t22 & 100.0 & 89.36880 &  10.6311985\\\\\n",
       "\t23 &  91.7 & 89.53721 &   2.1627895\\\\\n",
       "\t24 & 100.0 & 92.79312 &   7.2068838\\\\\n",
       "\t25 &  71.7 & 95.88061 & -24.1806131\\\\\n",
       "\\end{tabular}\n"
      ],
      "text/markdown": [
       "\n",
       "A matrix: 25 × 3 of type dbl\n",
       "\n",
       "| <!--/--> | y | yhat | e |\n",
       "|---|---|---|---|\n",
       "| 1 |  71.4 | 74.21200 |  -2.8119989 |\n",
       "| 2 |  48.3 | 75.44700 | -27.1469976 |\n",
       "| 3 |  88.3 | 75.44700 |  12.8530024 |\n",
       "| 4 |  75.0 | 75.55927 |  -0.5592702 |\n",
       "| 5 |  91.7 | 77.35563 |  14.3443680 |\n",
       "| 6 | 100.0 | 77.46790 |  22.5320954 |\n",
       "| 7 |  73.3 | 79.32040 |  -6.0204027 |\n",
       "| 8 |  65.0 | 79.54495 | -14.5449480 |\n",
       "| 9 |  75.0 | 79.99404 |  -4.9940384 |\n",
       "| 10 |  88.3 | 80.27472 |   8.0252801 |\n",
       "| 11 |  68.3 | 80.27472 | -11.9747199 |\n",
       "| 12 |  96.7 | 80.61154 |  16.0884622 |\n",
       "| 13 |  76.7 | 80.77995 |  -4.0799467 |\n",
       "| 14 |  78.3 | 81.11676 |  -2.8167645 |\n",
       "| 15 |  60.0 | 81.28517 | -21.2851734 |\n",
       "| 16 |  71.7 | 81.28517 |  -9.5851734 |\n",
       "| 17 |  85.0 | 81.50972 |   3.4902813 |\n",
       "| 18 |  85.0 | 82.07108 |   2.9289183 |\n",
       "| 19 |  88.3 | 84.70949 |   3.5905119 |\n",
       "| 20 | 100.0 | 86.67426 |  13.3257412 |\n",
       "| 21 | 100.0 | 87.17949 |  12.8205144 |\n",
       "| 22 | 100.0 | 89.36880 |  10.6311985 |\n",
       "| 23 |  91.7 | 89.53721 |   2.1627895 |\n",
       "| 24 | 100.0 | 92.79312 |   7.2068838 |\n",
       "| 25 |  71.7 | 95.88061 | -24.1806131 |\n",
       "\n"
      ],
      "text/plain": [
       "   y     yhat     e          \n",
       "1   71.4 74.21200  -2.8119989\n",
       "2   48.3 75.44700 -27.1469976\n",
       "3   88.3 75.44700  12.8530024\n",
       "4   75.0 75.55927  -0.5592702\n",
       "5   91.7 77.35563  14.3443680\n",
       "6  100.0 77.46790  22.5320954\n",
       "7   73.3 79.32040  -6.0204027\n",
       "8   65.0 79.54495 -14.5449480\n",
       "9   75.0 79.99404  -4.9940384\n",
       "10  88.3 80.27472   8.0252801\n",
       "11  68.3 80.27472 -11.9747199\n",
       "12  96.7 80.61154  16.0884622\n",
       "13  76.7 80.77995  -4.0799467\n",
       "14  78.3 81.11676  -2.8167645\n",
       "15  60.0 81.28517 -21.2851734\n",
       "16  71.7 81.28517  -9.5851734\n",
       "17  85.0 81.50972   3.4902813\n",
       "18  85.0 82.07108   2.9289183\n",
       "19  88.3 84.70949   3.5905119\n",
       "20 100.0 86.67426  13.3257412\n",
       "21 100.0 87.17949  12.8205144\n",
       "22 100.0 89.36880  10.6311985\n",
       "23  91.7 89.53721   2.1627895\n",
       "24 100.0 92.79312   7.2068838\n",
       "25  71.7 95.88061 -24.1806131"
      ]
     },
     "metadata": {},
     "output_type": "display_data"
    }
   ],
   "source": [
    "cbind(y,yhat,e)"
   ]
  },
  {
   "cell_type": "code",
   "execution_count": 13,
   "id": "02a8d7be",
   "metadata": {
    "execution": {
     "iopub.execute_input": "2021-08-06T07:13:59.537773Z",
     "iopub.status.busy": "2021-08-06T07:13:59.536259Z",
     "iopub.status.idle": "2021-08-06T07:13:59.628359Z",
     "shell.execute_reply": "2021-08-06T07:13:59.623281Z"
    },
    "papermill": {
     "duration": 0.130834,
     "end_time": "2021-08-06T07:13:59.628514",
     "exception": false,
     "start_time": "2021-08-06T07:13:59.497680",
     "status": "completed"
    },
    "tags": []
   },
   "outputs": [
    {
     "data": {
      "image/png": "[encoded data removed]"
     },
     "metadata": {
      "image/png": {
       "height": 420,
       "width": 420
      }
     },
     "output_type": "display_data"
    }
   ],
   "source": [
    "#Ploting Regression Line on scatter plot of X and Y\n",
    "plot(x,y,xlab = \"Arm Stength\",ylab= \"Dynemic Lift\")\n",
    "abline(model)\n"
   ]
  },
  {
   "cell_type": "code",
   "execution_count": 14,
   "id": "95ccd980",
   "metadata": {
    "execution": {
     "iopub.execute_input": "2021-08-06T07:13:59.705407Z",
     "iopub.status.busy": "2021-08-06T07:13:59.704000Z",
     "iopub.status.idle": "2021-08-06T07:13:59.733032Z",
     "shell.execute_reply": "2021-08-06T07:13:59.731720Z"
    },
    "papermill": {
     "duration": 0.068663,
     "end_time": "2021-08-06T07:13:59.733182",
     "exception": false,
     "start_time": "2021-08-06T07:13:59.664519",
     "status": "completed"
    },
    "tags": []
   },
   "outputs": [
    {
     "data": {
      "text/plain": [
       "\n",
       "Call:\n",
       "lm(formula = y ~ x, data = data_lt)\n",
       "\n",
       "Residuals:\n",
       "    Min      1Q  Median      3Q     Max \n",
       "-27.147  -6.020   2.163  10.631  22.532 \n",
       "\n",
       "Coefficients:\n",
       "            Estimate Std. Error t value Pr(>|t|)    \n",
       "(Intercept)  64.5004     8.9752   7.187 2.57e-07 ***\n",
       "x             0.5614     0.2752   2.040    0.053 .  \n",
       "---\n",
       "Signif. codes:  0 ‘***’ 0.001 ‘**’ 0.01 ‘*’ 0.05 ‘.’ 0.1 ‘ ’ 1\n",
       "\n",
       "Residual standard error: 13.29 on 23 degrees of freedom\n",
       "Multiple R-squared:  0.1532,\tAdjusted R-squared:  0.1164 \n",
       "F-statistic: 4.161 on 1 and 23 DF,  p-value: 0.053\n"
      ]
     },
     "metadata": {},
     "output_type": "display_data"
    }
   ],
   "source": [
    "test_beta=summary(model)#returns summary of the model\n",
    "test_beta"
   ]
  },
  {
   "cell_type": "markdown",
   "id": "20ba0bbc",
   "metadata": {
    "papermill": {
     "duration": 0.037178,
     "end_time": "2021-08-06T07:13:59.806798",
     "exception": false,
     "start_time": "2021-08-06T07:13:59.769620",
     "status": "completed"
    },
    "tags": []
   },
   "source": [
    "p value is 0.05 < 0.5 , accept h0"
   ]
  },
  {
   "cell_type": "code",
   "execution_count": 15,
   "id": "89f65540",
   "metadata": {
    "execution": {
     "iopub.execute_input": "2021-08-06T07:13:59.887305Z",
     "iopub.status.busy": "2021-08-06T07:13:59.885764Z",
     "iopub.status.idle": "2021-08-06T07:13:59.911351Z",
     "shell.execute_reply": "2021-08-06T07:13:59.909960Z"
    },
    "papermill": {
     "duration": 0.068046,
     "end_time": "2021-08-06T07:13:59.911500",
     "exception": false,
     "start_time": "2021-08-06T07:13:59.843454",
     "status": "completed"
    },
    "tags": []
   },
   "outputs": [
    {
     "data": {
      "text/html": [
       "<table class=\"dataframe\">\n",
       "<caption>A anova: 2 × 5</caption>\n",
       "<thead>\n",
       "\t<tr><th></th><th scope=col>Df</th><th scope=col>Sum Sq</th><th scope=col>Mean Sq</th><th scope=col>F value</th><th scope=col>Pr(&gt;F)</th></tr>\n",
       "\t<tr><th></th><th scope=col>&lt;int&gt;</th><th scope=col>&lt;dbl&gt;</th><th scope=col>&lt;dbl&gt;</th><th scope=col>&lt;dbl&gt;</th><th scope=col>&lt;dbl&gt;</th></tr>\n",
       "</thead>\n",
       "<tbody>\n",
       "\t<tr><th scope=row>x</th><td> 1</td><td> 735.0632</td><td>735.0632</td><td>4.161421</td><td>0.05300059</td></tr>\n",
       "\t<tr><th scope=row>Residuals</th><td>23</td><td>4062.6632</td><td>176.6375</td><td>      NA</td><td>        NA</td></tr>\n",
       "</tbody>\n",
       "</table>\n"
      ],
      "text/latex": [
       "A anova: 2 × 5\n",
       "\\begin{tabular}{r|lllll}\n",
       "  & Df & Sum Sq & Mean Sq & F value & Pr(>F)\\\\\n",
       "  & <int> & <dbl> & <dbl> & <dbl> & <dbl>\\\\\n",
       "\\hline\n",
       "\tx &  1 &  735.0632 & 735.0632 & 4.161421 & 0.05300059\\\\\n",
       "\tResiduals & 23 & 4062.6632 & 176.6375 &       NA &         NA\\\\\n",
       "\\end{tabular}\n"
      ],
      "text/markdown": [
       "\n",
       "A anova: 2 × 5\n",
       "\n",
       "| <!--/--> | Df &lt;int&gt; | Sum Sq &lt;dbl&gt; | Mean Sq &lt;dbl&gt; | F value &lt;dbl&gt; | Pr(&gt;F) &lt;dbl&gt; |\n",
       "|---|---|---|---|---|---|\n",
       "| x |  1 |  735.0632 | 735.0632 | 4.161421 | 0.05300059 |\n",
       "| Residuals | 23 | 4062.6632 | 176.6375 |       NA |         NA |\n",
       "\n"
      ],
      "text/plain": [
       "          Df Sum Sq    Mean Sq  F value  Pr(>F)    \n",
       "x          1  735.0632 735.0632 4.161421 0.05300059\n",
       "Residuals 23 4062.6632 176.6375       NA         NA"
      ]
     },
     "metadata": {},
     "output_type": "display_data"
    }
   ],
   "source": [
    "Anova_table=anova(model)#ANOVA table\n",
    "Anova_table"
   ]
  },
  {
   "cell_type": "code",
   "execution_count": 16,
   "id": "d78fc070",
   "metadata": {
    "execution": {
     "iopub.execute_input": "2021-08-06T07:13:59.990602Z",
     "iopub.status.busy": "2021-08-06T07:13:59.989230Z",
     "iopub.status.idle": "2021-08-06T07:14:00.039134Z",
     "shell.execute_reply": "2021-08-06T07:14:00.037642Z"
    },
    "papermill": {
     "duration": 0.090687,
     "end_time": "2021-08-06T07:14:00.039297",
     "exception": false,
     "start_time": "2021-08-06T07:13:59.948610",
     "status": "completed"
    },
    "tags": []
   },
   "outputs": [
    {
     "data": {
      "text/html": [
       "<style>\n",
       ".dl-inline {width: auto; margin:0; padding: 0}\n",
       ".dl-inline>dt, .dl-inline>dd {float: none; width: auto; display: inline-block}\n",
       ".dl-inline>dt::after {content: \":\\0020\"; padding-right: .5ex}\n",
       ".dl-inline>dt:not(:first-of-type) {padding-left: .5ex}\n",
       "</style><dl class=dl-inline><dt>1</dt><dd>74.2119988558604</dd><dt>2</dt><dd>75.4469975937399</dd><dt>3</dt><dd>75.4469975937399</dd><dt>4</dt><dd>75.5592702062744</dd><dt>5</dt><dd>77.3556320068264</dd><dt>6</dt><dd>77.4679046193609</dd><dt>7</dt><dd>79.3204027261802</dd><dt>8</dt><dd>79.5449479512492</dd><dt>9</dt><dd>79.9940384013872</dd><dt>10</dt><dd>80.2747199327235</dd><dt>11</dt><dd>80.2747199327235</dd><dt>12</dt><dd>80.611537770327</dd><dt>13</dt><dd>80.7799466891287</dd><dt>14</dt><dd>81.1167645267323</dd><dt>15</dt><dd>81.285173445534</dd><dt>16</dt><dd>81.285173445534</dd><dt>17</dt><dd>81.509718670603</dd><dt>18</dt><dd>82.0710817332755</dd><dt>19</dt><dd>84.7094881278363</dd><dt>20</dt><dd>86.6742588471901</dd><dt>21</dt><dd>87.1794856035954</dd><dt>22</dt><dd>89.3688015480182</dd><dt>23</dt><dd>89.53721046682</dd><dt>24</dt><dd>92.7931162303205</dd><dt>25</dt><dd>95.8806130750193</dd></dl>\n"
      ],
      "text/latex": [
       "\\begin{description*}\n",
       "\\item[1] 74.2119988558604\n",
       "\\item[2] 75.4469975937399\n",
       "\\item[3] 75.4469975937399\n",
       "\\item[4] 75.5592702062744\n",
       "\\item[5] 77.3556320068264\n",
       "\\item[6] 77.4679046193609\n",
       "\\item[7] 79.3204027261802\n",
       "\\item[8] 79.5449479512492\n",
       "\\item[9] 79.9940384013872\n",
       "\\item[10] 80.2747199327235\n",
       "\\item[11] 80.2747199327235\n",
       "\\item[12] 80.611537770327\n",
       "\\item[13] 80.7799466891287\n",
       "\\item[14] 81.1167645267323\n",
       "\\item[15] 81.285173445534\n",
       "\\item[16] 81.285173445534\n",
       "\\item[17] 81.509718670603\n",
       "\\item[18] 82.0710817332755\n",
       "\\item[19] 84.7094881278363\n",
       "\\item[20] 86.6742588471901\n",
       "\\item[21] 87.1794856035954\n",
       "\\item[22] 89.3688015480182\n",
       "\\item[23] 89.53721046682\n",
       "\\item[24] 92.7931162303205\n",
       "\\item[25] 95.8806130750193\n",
       "\\end{description*}\n"
      ],
      "text/markdown": [
       "1\n",
       ":   74.21199885586042\n",
       ":   75.44699759373993\n",
       ":   75.44699759373994\n",
       ":   75.55927020627445\n",
       ":   77.35563200682646\n",
       ":   77.46790461936097\n",
       ":   79.32040272618028\n",
       ":   79.54494795124929\n",
       ":   79.994038401387210\n",
       ":   80.274719932723511\n",
       ":   80.274719932723512\n",
       ":   80.61153777032713\n",
       ":   80.779946689128714\n",
       ":   81.116764526732315\n",
       ":   81.28517344553416\n",
       ":   81.28517344553417\n",
       ":   81.50971867060318\n",
       ":   82.071081733275519\n",
       ":   84.709488127836320\n",
       ":   86.674258847190121\n",
       ":   87.179485603595422\n",
       ":   89.368801548018223\n",
       ":   89.5372104668224\n",
       ":   92.793116230320525\n",
       ":   95.8806130750193\n",
       "\n"
      ],
      "text/plain": [
       "       1        2        3        4        5        6        7        8 \n",
       "74.21200 75.44700 75.44700 75.55927 77.35563 77.46790 79.32040 79.54495 \n",
       "       9       10       11       12       13       14       15       16 \n",
       "79.99404 80.27472 80.27472 80.61154 80.77995 81.11676 81.28517 81.28517 \n",
       "      17       18       19       20       21       22       23       24 \n",
       "81.50972 82.07108 84.70949 86.67426 87.17949 89.36880 89.53721 92.79312 \n",
       "      25 \n",
       "95.88061 "
      ]
     },
     "metadata": {},
     "output_type": "display_data"
    }
   ],
   "source": [
    "yhat=model$fitted.value# Fitted value of y\n",
    "yhat\n"
   ]
  },
  {
   "cell_type": "code",
   "execution_count": 17,
   "id": "dc74365c",
   "metadata": {
    "execution": {
     "iopub.execute_input": "2021-08-06T07:14:00.121136Z",
     "iopub.status.busy": "2021-08-06T07:14:00.119279Z",
     "iopub.status.idle": "2021-08-06T07:14:00.195424Z",
     "shell.execute_reply": "2021-08-06T07:14:00.194127Z"
    },
    "papermill": {
     "duration": 0.118223,
     "end_time": "2021-08-06T07:14:00.195566",
     "exception": false,
     "start_time": "2021-08-06T07:14:00.077343",
     "status": "completed"
    },
    "tags": []
   },
   "outputs": [
    {
     "data": {
      "text/html": [
       "0.153210730223756"
      ],
      "text/latex": [
       "0.153210730223756"
      ],
      "text/markdown": [
       "0.153210730223756"
      ],
      "text/plain": [
       "[1] 0.1532107"
      ]
     },
     "metadata": {},
     "output_type": "display_data"
    },
    {
     "data": {
      "image/png": "[encoded data removed]"
     },
     "metadata": {
      "image/png": {
       "height": 420,
       "width": 420
      }
     },
     "output_type": "display_data"
    }
   ],
   "source": [
    "plot(y,yhat)\n",
    "R2=test_beta$r.squared #R^2 value.\n",
    "R2"
   ]
  },
  {
   "cell_type": "code",
   "execution_count": 18,
   "id": "c9cb0daa",
   "metadata": {
    "execution": {
     "iopub.execute_input": "2021-08-06T07:14:00.281000Z",
     "iopub.status.busy": "2021-08-06T07:14:00.279133Z",
     "iopub.status.idle": "2021-08-06T07:14:00.303498Z",
     "shell.execute_reply": "2021-08-06T07:14:00.302064Z"
    },
    "papermill": {
     "duration": 0.068523,
     "end_time": "2021-08-06T07:14:00.303643",
     "exception": false,
     "start_time": "2021-08-06T07:14:00.235120",
     "status": "completed"
    },
    "tags": []
   },
   "outputs": [
    {
     "data": {
      "text/html": [
       "<table class=\"dataframe\">\n",
       "<caption>A matrix: 2 × 2 of type dbl</caption>\n",
       "<thead>\n",
       "\t<tr><th></th><th scope=col>2.5 %</th><th scope=col>97.5 %</th></tr>\n",
       "</thead>\n",
       "<tbody>\n",
       "\t<tr><th scope=row>(Intercept)</th><td>45.933856383</td><td>83.066979</td></tr>\n",
       "\t<tr><th scope=row>x</th><td>-0.007898174</td><td> 1.130624</td></tr>\n",
       "</tbody>\n",
       "</table>\n"
      ],
      "text/latex": [
       "A matrix: 2 × 2 of type dbl\n",
       "\\begin{tabular}{r|ll}\n",
       "  & 2.5 \\% & 97.5 \\%\\\\\n",
       "\\hline\n",
       "\t(Intercept) & 45.933856383 & 83.066979\\\\\n",
       "\tx & -0.007898174 &  1.130624\\\\\n",
       "\\end{tabular}\n"
      ],
      "text/markdown": [
       "\n",
       "A matrix: 2 × 2 of type dbl\n",
       "\n",
       "| <!--/--> | 2.5 % | 97.5 % |\n",
       "|---|---|---|\n",
       "| (Intercept) | 45.933856383 | 83.066979 |\n",
       "| x | -0.007898174 |  1.130624 |\n",
       "\n"
      ],
      "text/plain": [
       "            2.5 %        97.5 %   \n",
       "(Intercept) 45.933856383 83.066979\n",
       "x           -0.007898174  1.130624"
      ]
     },
     "metadata": {},
     "output_type": "display_data"
    }
   ],
   "source": [
    "conf_beta=confint(model,level=0.95)#confidence Interval for parameter\n",
    "conf_beta"
   ]
  },
  {
   "cell_type": "code",
   "execution_count": 19,
   "id": "db9057a2",
   "metadata": {
    "execution": {
     "iopub.execute_input": "2021-08-06T07:14:00.393494Z",
     "iopub.status.busy": "2021-08-06T07:14:00.387791Z",
     "iopub.status.idle": "2021-08-06T07:14:00.418173Z",
     "shell.execute_reply": "2021-08-06T07:14:00.416591Z"
    },
    "papermill": {
     "duration": 0.074593,
     "end_time": "2021-08-06T07:14:00.418331",
     "exception": false,
     "start_time": "2021-08-06T07:14:00.343738",
     "status": "completed"
    },
    "tags": []
   },
   "outputs": [
    {
     "data": {
      "text/html": [
       "<table class=\"dataframe\">\n",
       "<caption>A matrix: 6 × 3 of type dbl</caption>\n",
       "<thead>\n",
       "\t<tr><th></th><th scope=col>fit</th><th scope=col>lwr</th><th scope=col>upr</th></tr>\n",
       "</thead>\n",
       "<tbody>\n",
       "\t<tr><th scope=row>1</th><td>74.21200</td><td>64.59871</td><td>83.82529</td></tr>\n",
       "\t<tr><th scope=row>2</th><td>75.44700</td><td>66.83115</td><td>84.06284</td></tr>\n",
       "\t<tr><th scope=row>3</th><td>75.44700</td><td>66.83115</td><td>84.06284</td></tr>\n",
       "\t<tr><th scope=row>4</th><td>75.55927</td><td>67.03076</td><td>84.08778</td></tr>\n",
       "\t<tr><th scope=row>5</th><td>77.35563</td><td>70.12358</td><td>84.58769</td></tr>\n",
       "\t<tr><th scope=row>6</th><td>77.46790</td><td>70.30928</td><td>84.62653</td></tr>\n",
       "</tbody>\n",
       "</table>\n"
      ],
      "text/latex": [
       "A matrix: 6 × 3 of type dbl\n",
       "\\begin{tabular}{r|lll}\n",
       "  & fit & lwr & upr\\\\\n",
       "\\hline\n",
       "\t1 & 74.21200 & 64.59871 & 83.82529\\\\\n",
       "\t2 & 75.44700 & 66.83115 & 84.06284\\\\\n",
       "\t3 & 75.44700 & 66.83115 & 84.06284\\\\\n",
       "\t4 & 75.55927 & 67.03076 & 84.08778\\\\\n",
       "\t5 & 77.35563 & 70.12358 & 84.58769\\\\\n",
       "\t6 & 77.46790 & 70.30928 & 84.62653\\\\\n",
       "\\end{tabular}\n"
      ],
      "text/markdown": [
       "\n",
       "A matrix: 6 × 3 of type dbl\n",
       "\n",
       "| <!--/--> | fit | lwr | upr |\n",
       "|---|---|---|---|\n",
       "| 1 | 74.21200 | 64.59871 | 83.82529 |\n",
       "| 2 | 75.44700 | 66.83115 | 84.06284 |\n",
       "| 3 | 75.44700 | 66.83115 | 84.06284 |\n",
       "| 4 | 75.55927 | 67.03076 | 84.08778 |\n",
       "| 5 | 77.35563 | 70.12358 | 84.58769 |\n",
       "| 6 | 77.46790 | 70.30928 | 84.62653 |\n",
       "\n"
      ],
      "text/plain": [
       "  fit      lwr      upr     \n",
       "1 74.21200 64.59871 83.82529\n",
       "2 75.44700 66.83115 84.06284\n",
       "3 75.44700 66.83115 84.06284\n",
       "4 75.55927 67.03076 84.08778\n",
       "5 77.35563 70.12358 84.58769\n",
       "6 77.46790 70.30928 84.62653"
      ]
     },
     "metadata": {},
     "output_type": "display_data"
    }
   ],
   "source": [
    "predict_data=predict(model,interval=\"confidence\",level=0.95)\n",
    "head(predict_data)\n"
   ]
  },
  {
   "cell_type": "code",
   "execution_count": 20,
   "id": "a73f9526",
   "metadata": {
    "execution": {
     "iopub.execute_input": "2021-08-06T07:14:00.504867Z",
     "iopub.status.busy": "2021-08-06T07:14:00.503070Z",
     "iopub.status.idle": "2021-08-06T07:14:00.547277Z",
     "shell.execute_reply": "2021-08-06T07:14:00.545784Z"
    },
    "papermill": {
     "duration": 0.08865,
     "end_time": "2021-08-06T07:14:00.547425",
     "exception": false,
     "start_time": "2021-08-06T07:14:00.458775",
     "status": "completed"
    },
    "tags": []
   },
   "outputs": [
    {
     "name": "stderr",
     "output_type": "stream",
     "text": [
      "Warning message:\n",
      "“'newdata' had 3 rows but variables found have 25 rows”\n"
     ]
    },
    {
     "data": {
      "text/html": [
       "<table class=\"dataframe\">\n",
       "<caption>A matrix: 25 × 3 of type dbl</caption>\n",
       "<thead>\n",
       "\t<tr><th></th><th scope=col>fit</th><th scope=col>lwr</th><th scope=col>upr</th></tr>\n",
       "</thead>\n",
       "<tbody>\n",
       "\t<tr><th scope=row>1</th><td>74.21200</td><td>64.59871</td><td> 83.82529</td></tr>\n",
       "\t<tr><th scope=row>2</th><td>75.44700</td><td>66.83115</td><td> 84.06284</td></tr>\n",
       "\t<tr><th scope=row>3</th><td>75.44700</td><td>66.83115</td><td> 84.06284</td></tr>\n",
       "\t<tr><th scope=row>4</th><td>75.55927</td><td>67.03076</td><td> 84.08778</td></tr>\n",
       "\t<tr><th scope=row>5</th><td>77.35563</td><td>70.12358</td><td> 84.58769</td></tr>\n",
       "\t<tr><th scope=row>6</th><td>77.46790</td><td>70.30928</td><td> 84.62653</td></tr>\n",
       "\t<tr><th scope=row>7</th><td>79.32040</td><td>73.19232</td><td> 85.44849</td></tr>\n",
       "\t<tr><th scope=row>8</th><td>79.54495</td><td>73.51392</td><td> 85.57598</td></tr>\n",
       "\t<tr><th scope=row>9</th><td>79.99404</td><td>74.13535</td><td> 85.85273</td></tr>\n",
       "\t<tr><th scope=row>10</th><td>80.27472</td><td>74.50807</td><td> 86.04137</td></tr>\n",
       "\t<tr><th scope=row>11</th><td>80.27472</td><td>74.50807</td><td> 86.04137</td></tr>\n",
       "\t<tr><th scope=row>12</th><td>80.61154</td><td>74.93844</td><td> 86.28464</td></tr>\n",
       "\t<tr><th scope=row>13</th><td>80.77995</td><td>75.14643</td><td> 86.41346</td></tr>\n",
       "\t<tr><th scope=row>14</th><td>81.11676</td><td>75.54754</td><td> 86.68599</td></tr>\n",
       "\t<tr><th scope=row>15</th><td>81.28517</td><td>75.74048</td><td> 86.82987</td></tr>\n",
       "\t<tr><th scope=row>16</th><td>81.28517</td><td>75.74048</td><td> 86.82987</td></tr>\n",
       "\t<tr><th scope=row>17</th><td>81.50972</td><td>75.98967</td><td> 87.02977</td></tr>\n",
       "\t<tr><th scope=row>18</th><td>82.07108</td><td>76.57174</td><td> 87.57043</td></tr>\n",
       "\t<tr><th scope=row>19</th><td>84.70949</td><td>78.55708</td><td> 90.86189</td></tr>\n",
       "\t<tr><th scope=row>20</th><td>86.67426</td><td>79.40659</td><td> 93.94193</td></tr>\n",
       "\t<tr><th scope=row>21</th><td>87.17949</td><td>79.56693</td><td> 94.79204</td></tr>\n",
       "\t<tr><th scope=row>22</th><td>89.36880</td><td>80.08141</td><td> 98.65619</td></tr>\n",
       "\t<tr><th scope=row>23</th><td>89.53721</td><td>80.11165</td><td> 98.96277</td></tr>\n",
       "\t<tr><th scope=row>24</th><td>92.79312</td><td>80.53364</td><td>105.05259</td></tr>\n",
       "\t<tr><th scope=row>25</th><td>95.88061</td><td>80.75746</td><td>111.00376</td></tr>\n",
       "</tbody>\n",
       "</table>\n"
      ],
      "text/latex": [
       "A matrix: 25 × 3 of type dbl\n",
       "\\begin{tabular}{r|lll}\n",
       "  & fit & lwr & upr\\\\\n",
       "\\hline\n",
       "\t1 & 74.21200 & 64.59871 &  83.82529\\\\\n",
       "\t2 & 75.44700 & 66.83115 &  84.06284\\\\\n",
       "\t3 & 75.44700 & 66.83115 &  84.06284\\\\\n",
       "\t4 & 75.55927 & 67.03076 &  84.08778\\\\\n",
       "\t5 & 77.35563 & 70.12358 &  84.58769\\\\\n",
       "\t6 & 77.46790 & 70.30928 &  84.62653\\\\\n",
       "\t7 & 79.32040 & 73.19232 &  85.44849\\\\\n",
       "\t8 & 79.54495 & 73.51392 &  85.57598\\\\\n",
       "\t9 & 79.99404 & 74.13535 &  85.85273\\\\\n",
       "\t10 & 80.27472 & 74.50807 &  86.04137\\\\\n",
       "\t11 & 80.27472 & 74.50807 &  86.04137\\\\\n",
       "\t12 & 80.61154 & 74.93844 &  86.28464\\\\\n",
       "\t13 & 80.77995 & 75.14643 &  86.41346\\\\\n",
       "\t14 & 81.11676 & 75.54754 &  86.68599\\\\\n",
       "\t15 & 81.28517 & 75.74048 &  86.82987\\\\\n",
       "\t16 & 81.28517 & 75.74048 &  86.82987\\\\\n",
       "\t17 & 81.50972 & 75.98967 &  87.02977\\\\\n",
       "\t18 & 82.07108 & 76.57174 &  87.57043\\\\\n",
       "\t19 & 84.70949 & 78.55708 &  90.86189\\\\\n",
       "\t20 & 86.67426 & 79.40659 &  93.94193\\\\\n",
       "\t21 & 87.17949 & 79.56693 &  94.79204\\\\\n",
       "\t22 & 89.36880 & 80.08141 &  98.65619\\\\\n",
       "\t23 & 89.53721 & 80.11165 &  98.96277\\\\\n",
       "\t24 & 92.79312 & 80.53364 & 105.05259\\\\\n",
       "\t25 & 95.88061 & 80.75746 & 111.00376\\\\\n",
       "\\end{tabular}\n"
      ],
      "text/markdown": [
       "\n",
       "A matrix: 25 × 3 of type dbl\n",
       "\n",
       "| <!--/--> | fit | lwr | upr |\n",
       "|---|---|---|---|\n",
       "| 1 | 74.21200 | 64.59871 |  83.82529 |\n",
       "| 2 | 75.44700 | 66.83115 |  84.06284 |\n",
       "| 3 | 75.44700 | 66.83115 |  84.06284 |\n",
       "| 4 | 75.55927 | 67.03076 |  84.08778 |\n",
       "| 5 | 77.35563 | 70.12358 |  84.58769 |\n",
       "| 6 | 77.46790 | 70.30928 |  84.62653 |\n",
       "| 7 | 79.32040 | 73.19232 |  85.44849 |\n",
       "| 8 | 79.54495 | 73.51392 |  85.57598 |\n",
       "| 9 | 79.99404 | 74.13535 |  85.85273 |\n",
       "| 10 | 80.27472 | 74.50807 |  86.04137 |\n",
       "| 11 | 80.27472 | 74.50807 |  86.04137 |\n",
       "| 12 | 80.61154 | 74.93844 |  86.28464 |\n",
       "| 13 | 80.77995 | 75.14643 |  86.41346 |\n",
       "| 14 | 81.11676 | 75.54754 |  86.68599 |\n",
       "| 15 | 81.28517 | 75.74048 |  86.82987 |\n",
       "| 16 | 81.28517 | 75.74048 |  86.82987 |\n",
       "| 17 | 81.50972 | 75.98967 |  87.02977 |\n",
       "| 18 | 82.07108 | 76.57174 |  87.57043 |\n",
       "| 19 | 84.70949 | 78.55708 |  90.86189 |\n",
       "| 20 | 86.67426 | 79.40659 |  93.94193 |\n",
       "| 21 | 87.17949 | 79.56693 |  94.79204 |\n",
       "| 22 | 89.36880 | 80.08141 |  98.65619 |\n",
       "| 23 | 89.53721 | 80.11165 |  98.96277 |\n",
       "| 24 | 92.79312 | 80.53364 | 105.05259 |\n",
       "| 25 | 95.88061 | 80.75746 | 111.00376 |\n",
       "\n"
      ],
      "text/plain": [
       "   fit      lwr      upr      \n",
       "1  74.21200 64.59871  83.82529\n",
       "2  75.44700 66.83115  84.06284\n",
       "3  75.44700 66.83115  84.06284\n",
       "4  75.55927 67.03076  84.08778\n",
       "5  77.35563 70.12358  84.58769\n",
       "6  77.46790 70.30928  84.62653\n",
       "7  79.32040 73.19232  85.44849\n",
       "8  79.54495 73.51392  85.57598\n",
       "9  79.99404 74.13535  85.85273\n",
       "10 80.27472 74.50807  86.04137\n",
       "11 80.27472 74.50807  86.04137\n",
       "12 80.61154 74.93844  86.28464\n",
       "13 80.77995 75.14643  86.41346\n",
       "14 81.11676 75.54754  86.68599\n",
       "15 81.28517 75.74048  86.82987\n",
       "16 81.28517 75.74048  86.82987\n",
       "17 81.50972 75.98967  87.02977\n",
       "18 82.07108 76.57174  87.57043\n",
       "19 84.70949 78.55708  90.86189\n",
       "20 86.67426 79.40659  93.94193\n",
       "21 87.17949 79.56693  94.79204\n",
       "22 89.36880 80.08141  98.65619\n",
       "23 89.53721 80.11165  98.96277\n",
       "24 92.79312 80.53364 105.05259\n",
       "25 95.88061 80.75746 111.00376"
      ]
     },
     "metadata": {},
     "output_type": "display_data"
    }
   ],
   "source": [
    "new.data=data.frame(Arm_Strength=c(32.4,22.9,48.3))\n",
    "predict_CI_new=predict(model,newdata = new.data,interval=\"confidence\",level=0.95)\n",
    "predict_CI_new"
   ]
  },
  {
   "cell_type": "markdown",
   "id": "d4a999f4",
   "metadata": {
    "papermill": {
     "duration": 0.040971,
     "end_time": "2021-08-06T07:14:00.629491",
     "exception": false,
     "start_time": "2021-08-06T07:14:00.588520",
     "status": "completed"
    },
    "tags": []
   },
   "source": [
    "# 2] PRACTICAL QUESTIONS"
   ]
  },
  {
   "cell_type": "markdown",
   "id": "d57dc8b5",
   "metadata": {
    "papermill": {
     "duration": 0.041621,
     "end_time": "2021-08-06T07:14:00.712325",
     "exception": false,
     "start_time": "2021-08-06T07:14:00.670704",
     "status": "completed"
    },
    "tags": []
   },
   "source": [
    "# Q1"
   ]
  },
  {
   "cell_type": "code",
   "execution_count": 21,
   "id": "0838f71b",
   "metadata": {
    "execution": {
     "iopub.execute_input": "2021-08-06T07:14:00.800590Z",
     "iopub.status.busy": "2021-08-06T07:14:00.798728Z",
     "iopub.status.idle": "2021-08-06T07:14:00.819823Z",
     "shell.execute_reply": "2021-08-06T07:14:00.818580Z"
    },
    "papermill": {
     "duration": 0.066908,
     "end_time": "2021-08-06T07:14:00.819965",
     "exception": false,
     "start_time": "2021-08-06T07:14:00.753057",
     "status": "completed"
    },
    "tags": []
   },
   "outputs": [],
   "source": [
    "#a\n",
    "data_ins=read.csv(\"../input/pracs1/insurance.csv\")"
   ]
  },
  {
   "cell_type": "code",
   "execution_count": 22,
   "id": "49aa514b",
   "metadata": {
    "execution": {
     "iopub.execute_input": "2021-08-06T07:14:00.908499Z",
     "iopub.status.busy": "2021-08-06T07:14:00.906505Z",
     "iopub.status.idle": "2021-08-06T07:14:00.930132Z",
     "shell.execute_reply": "2021-08-06T07:14:00.928650Z"
    },
    "papermill": {
     "duration": 0.068927,
     "end_time": "2021-08-06T07:14:00.930317",
     "exception": false,
     "start_time": "2021-08-06T07:14:00.861390",
     "status": "completed"
    },
    "tags": []
   },
   "outputs": [
    {
     "data": {
      "text/html": [
       "<table class=\"dataframe\">\n",
       "<caption>A data.frame: 6 × 4</caption>\n",
       "<thead>\n",
       "\t<tr><th></th><th scope=col>X</th><th scope=col>Month</th><th scope=col>Quotes</th><th scope=col>TVadverts</th></tr>\n",
       "\t<tr><th></th><th scope=col>&lt;int&gt;</th><th scope=col>&lt;chr&gt;</th><th scope=col>&lt;dbl&gt;</th><th scope=col>&lt;dbl&gt;</th></tr>\n",
       "</thead>\n",
       "<tbody>\n",
       "\t<tr><th scope=row>1</th><td>1</td><td>2002 Jan</td><td>12.97065</td><td>7.212725</td></tr>\n",
       "\t<tr><th scope=row>2</th><td>2</td><td>2002 Feb</td><td>15.38714</td><td>9.443570</td></tr>\n",
       "\t<tr><th scope=row>3</th><td>3</td><td>2002 Mar</td><td>13.22957</td><td>7.534250</td></tr>\n",
       "\t<tr><th scope=row>4</th><td>4</td><td>2002 Apr</td><td>12.97065</td><td>7.212725</td></tr>\n",
       "\t<tr><th scope=row>5</th><td>5</td><td>2002 May</td><td>15.38714</td><td>9.443570</td></tr>\n",
       "\t<tr><th scope=row>6</th><td>6</td><td>2002 Jun</td><td>11.72288</td><td>6.415215</td></tr>\n",
       "</tbody>\n",
       "</table>\n"
      ],
      "text/latex": [
       "A data.frame: 6 × 4\n",
       "\\begin{tabular}{r|llll}\n",
       "  & X & Month & Quotes & TVadverts\\\\\n",
       "  & <int> & <chr> & <dbl> & <dbl>\\\\\n",
       "\\hline\n",
       "\t1 & 1 & 2002 Jan & 12.97065 & 7.212725\\\\\n",
       "\t2 & 2 & 2002 Feb & 15.38714 & 9.443570\\\\\n",
       "\t3 & 3 & 2002 Mar & 13.22957 & 7.534250\\\\\n",
       "\t4 & 4 & 2002 Apr & 12.97065 & 7.212725\\\\\n",
       "\t5 & 5 & 2002 May & 15.38714 & 9.443570\\\\\n",
       "\t6 & 6 & 2002 Jun & 11.72288 & 6.415215\\\\\n",
       "\\end{tabular}\n"
      ],
      "text/markdown": [
       "\n",
       "A data.frame: 6 × 4\n",
       "\n",
       "| <!--/--> | X &lt;int&gt; | Month &lt;chr&gt; | Quotes &lt;dbl&gt; | TVadverts &lt;dbl&gt; |\n",
       "|---|---|---|---|---|\n",
       "| 1 | 1 | 2002 Jan | 12.97065 | 7.212725 |\n",
       "| 2 | 2 | 2002 Feb | 15.38714 | 9.443570 |\n",
       "| 3 | 3 | 2002 Mar | 13.22957 | 7.534250 |\n",
       "| 4 | 4 | 2002 Apr | 12.97065 | 7.212725 |\n",
       "| 5 | 5 | 2002 May | 15.38714 | 9.443570 |\n",
       "| 6 | 6 | 2002 Jun | 11.72288 | 6.415215 |\n",
       "\n"
      ],
      "text/plain": [
       "  X Month    Quotes   TVadverts\n",
       "1 1 2002 Jan 12.97065 7.212725 \n",
       "2 2 2002 Feb 15.38714 9.443570 \n",
       "3 3 2002 Mar 13.22957 7.534250 \n",
       "4 4 2002 Apr 12.97065 7.212725 \n",
       "5 5 2002 May 15.38714 9.443570 \n",
       "6 6 2002 Jun 11.72288 6.415215 "
      ]
     },
     "metadata": {},
     "output_type": "display_data"
    }
   ],
   "source": [
    "head(data_ins)"
   ]
  },
  {
   "cell_type": "code",
   "execution_count": 23,
   "id": "dab3c6b0",
   "metadata": {
    "execution": {
     "iopub.execute_input": "2021-08-06T07:14:01.019859Z",
     "iopub.status.busy": "2021-08-06T07:14:01.018041Z",
     "iopub.status.idle": "2021-08-06T07:14:01.036495Z",
     "shell.execute_reply": "2021-08-06T07:14:01.035058Z"
    },
    "papermill": {
     "duration": 0.064219,
     "end_time": "2021-08-06T07:14:01.036631",
     "exception": false,
     "start_time": "2021-08-06T07:14:00.972412",
     "status": "completed"
    },
    "tags": []
   },
   "outputs": [],
   "source": [
    "x=data_ins$Quotes\n",
    "y=data_ins$TVadverts"
   ]
  },
  {
   "cell_type": "code",
   "execution_count": 24,
   "id": "1e489c7b",
   "metadata": {
    "execution": {
     "iopub.execute_input": "2021-08-06T07:14:01.126594Z",
     "iopub.status.busy": "2021-08-06T07:14:01.124759Z",
     "iopub.status.idle": "2021-08-06T07:14:01.194097Z",
     "shell.execute_reply": "2021-08-06T07:14:01.192567Z"
    },
    "papermill": {
     "duration": 0.116214,
     "end_time": "2021-08-06T07:14:01.194254",
     "exception": false,
     "start_time": "2021-08-06T07:14:01.078040",
     "status": "completed"
    },
    "tags": []
   },
   "outputs": [
    {
     "data": {
      "image/png": "[encoded data removed]"
     },
     "metadata": {
      "image/png": {
       "height": 420,
       "width": 420
      }
     },
     "output_type": "display_data"
    }
   ],
   "source": [
    "plot(x,y)"
   ]
  },
  {
   "cell_type": "code",
   "execution_count": 25,
   "id": "41f52a3f",
   "metadata": {
    "execution": {
     "iopub.execute_input": "2021-08-06T07:14:01.286348Z",
     "iopub.status.busy": "2021-08-06T07:14:01.284402Z",
     "iopub.status.idle": "2021-08-06T07:14:01.299048Z",
     "shell.execute_reply": "2021-08-06T07:14:01.297578Z"
    },
    "papermill": {
     "duration": 0.061875,
     "end_time": "2021-08-06T07:14:01.299215",
     "exception": false,
     "start_time": "2021-08-06T07:14:01.237340",
     "status": "completed"
    },
    "tags": []
   },
   "outputs": [],
   "source": [
    "#b\n",
    "m1=lm(y~x,data=data_ins)"
   ]
  },
  {
   "cell_type": "code",
   "execution_count": 26,
   "id": "9182bbaa",
   "metadata": {
    "execution": {
     "iopub.execute_input": "2021-08-06T07:14:01.392221Z",
     "iopub.status.busy": "2021-08-06T07:14:01.390358Z",
     "iopub.status.idle": "2021-08-06T07:14:01.469498Z",
     "shell.execute_reply": "2021-08-06T07:14:01.467959Z"
    },
    "papermill": {
     "duration": 0.127307,
     "end_time": "2021-08-06T07:14:01.469637",
     "exception": false,
     "start_time": "2021-08-06T07:14:01.342330",
     "status": "completed"
    },
    "tags": []
   },
   "outputs": [
    {
     "data": {
      "image/png": "[encoded data removed]"
     },
     "metadata": {
      "image/png": {
       "height": 420,
       "width": 420
      }
     },
     "output_type": "display_data"
    }
   ],
   "source": [
    "#Ploting Regression Line on scatter plot of X and Y\n",
    "plot(x,y,xlab = \"Quotes\",ylab= \"TVadverts\")\n",
    "abline(m1)\n"
   ]
  },
  {
   "cell_type": "code",
   "execution_count": 27,
   "id": "ed0643d9",
   "metadata": {
    "execution": {
     "iopub.execute_input": "2021-08-06T07:14:01.564122Z",
     "iopub.status.busy": "2021-08-06T07:14:01.562701Z",
     "iopub.status.idle": "2021-08-06T07:14:01.581951Z",
     "shell.execute_reply": "2021-08-06T07:14:01.580678Z"
    },
    "papermill": {
     "duration": 0.067858,
     "end_time": "2021-08-06T07:14:01.582101",
     "exception": false,
     "start_time": "2021-08-06T07:14:01.514243",
     "status": "completed"
    },
    "tags": []
   },
   "outputs": [
    {
     "data": {
      "text/plain": [
       "\n",
       "Call:\n",
       "lm(formula = y ~ x, data = data_ins)\n",
       "\n",
       "Residuals:\n",
       "    Min      1Q  Median      3Q     Max \n",
       "-0.7998 -0.4508  0.1678  0.3582  1.3765 \n",
       "\n",
       "Coefficients:\n",
       "            Estimate Std. Error t value Pr(>|t|)    \n",
       "(Intercept)   1.2315     0.4529   2.719  0.00982 ** \n",
       "x             0.5104     0.0328  15.562  < 2e-16 ***\n",
       "---\n",
       "Signif. codes:  0 ‘***’ 0.001 ‘**’ 0.01 ‘*’ 0.05 ‘.’ 0.1 ‘ ’ 1\n",
       "\n",
       "Residual standard error: 0.4915 on 38 degrees of freedom\n",
       "Multiple R-squared:  0.8644,\tAdjusted R-squared:  0.8608 \n",
       "F-statistic: 242.2 on 1 and 38 DF,  p-value: < 2.2e-16\n"
      ]
     },
     "metadata": {},
     "output_type": "display_data"
    }
   ],
   "source": [
    "#c\n",
    "s=summary(m1)#returns summary of the model\n",
    "s"
   ]
  },
  {
   "cell_type": "markdown",
   "id": "3aee418f",
   "metadata": {
    "papermill": {
     "duration": 0.045102,
     "end_time": "2021-08-06T07:14:01.672292",
     "exception": false,
     "start_time": "2021-08-06T07:14:01.627190",
     "status": "completed"
    },
    "tags": []
   },
   "source": [
    "> p-value: < 2.2e-16, which is less than 0.5, hence we accept h0: B=0"
   ]
  },
  {
   "cell_type": "code",
   "execution_count": 28,
   "id": "c7096165",
   "metadata": {
    "execution": {
     "iopub.execute_input": "2021-08-06T07:14:01.766844Z",
     "iopub.status.busy": "2021-08-06T07:14:01.765386Z",
     "iopub.status.idle": "2021-08-06T07:14:01.783138Z",
     "shell.execute_reply": "2021-08-06T07:14:01.781806Z"
    },
    "papermill": {
     "duration": 0.066267,
     "end_time": "2021-08-06T07:14:01.783288",
     "exception": false,
     "start_time": "2021-08-06T07:14:01.717021",
     "status": "completed"
    },
    "tags": []
   },
   "outputs": [
    {
     "data": {
      "text/html": [
       "0.864366503602772"
      ],
      "text/latex": [
       "0.864366503602772"
      ],
      "text/markdown": [
       "0.864366503602772"
      ],
      "text/plain": [
       "[1] 0.8643665"
      ]
     },
     "metadata": {},
     "output_type": "display_data"
    }
   ],
   "source": [
    "#d\n",
    "R2=s$r.squared\n",
    "R2"
   ]
  },
  {
   "cell_type": "markdown",
   "id": "ad3ea913",
   "metadata": {
    "papermill": {
     "duration": 0.046655,
     "end_time": "2021-08-06T07:14:01.875011",
     "exception": false,
     "start_time": "2021-08-06T07:14:01.828356",
     "status": "completed"
    },
    "tags": []
   },
   "source": [
    "> R squared is close to 1 which means its a good fit"
   ]
  },
  {
   "cell_type": "code",
   "execution_count": 29,
   "id": "2c5967ac",
   "metadata": {
    "execution": {
     "iopub.execute_input": "2021-08-06T07:14:01.972737Z",
     "iopub.status.busy": "2021-08-06T07:14:01.971314Z",
     "iopub.status.idle": "2021-08-06T07:14:01.998400Z",
     "shell.execute_reply": "2021-08-06T07:14:01.996704Z"
    },
    "papermill": {
     "duration": 0.078228,
     "end_time": "2021-08-06T07:14:01.998548",
     "exception": false,
     "start_time": "2021-08-06T07:14:01.920320",
     "status": "completed"
    },
    "tags": []
   },
   "outputs": [
    {
     "data": {
      "text/html": [
       "<table class=\"dataframe\">\n",
       "<caption>A matrix: 2 × 2 of type dbl</caption>\n",
       "<thead>\n",
       "\t<tr><th></th><th scope=col>2.5 %</th><th scope=col>97.5 %</th></tr>\n",
       "</thead>\n",
       "<tbody>\n",
       "\t<tr><th scope=row>(Intercept)</th><td>0.3145349</td><td>2.148376</td></tr>\n",
       "\t<tr><th scope=row>x</th><td>0.4440214</td><td>0.576821</td></tr>\n",
       "</tbody>\n",
       "</table>\n"
      ],
      "text/latex": [
       "A matrix: 2 × 2 of type dbl\n",
       "\\begin{tabular}{r|ll}\n",
       "  & 2.5 \\% & 97.5 \\%\\\\\n",
       "\\hline\n",
       "\t(Intercept) & 0.3145349 & 2.148376\\\\\n",
       "\tx & 0.4440214 & 0.576821\\\\\n",
       "\\end{tabular}\n"
      ],
      "text/markdown": [
       "\n",
       "A matrix: 2 × 2 of type dbl\n",
       "\n",
       "| <!--/--> | 2.5 % | 97.5 % |\n",
       "|---|---|---|\n",
       "| (Intercept) | 0.3145349 | 2.148376 |\n",
       "| x | 0.4440214 | 0.576821 |\n",
       "\n"
      ],
      "text/plain": [
       "            2.5 %     97.5 %  \n",
       "(Intercept) 0.3145349 2.148376\n",
       "x           0.4440214 0.576821"
      ]
     },
     "metadata": {},
     "output_type": "display_data"
    }
   ],
   "source": [
    "#e\n",
    "CI=confint(m1,level=0.95)#confidence Interval for parameter\n",
    "CI\n"
   ]
  },
  {
   "cell_type": "code",
   "execution_count": 30,
   "id": "5ec55b68",
   "metadata": {
    "execution": {
     "iopub.execute_input": "2021-08-06T07:14:02.097060Z",
     "iopub.status.busy": "2021-08-06T07:14:02.095140Z",
     "iopub.status.idle": "2021-08-06T07:14:02.113372Z",
     "shell.execute_reply": "2021-08-06T07:14:02.111659Z"
    },
    "papermill": {
     "duration": 0.068194,
     "end_time": "2021-08-06T07:14:02.113530",
     "exception": false,
     "start_time": "2021-08-06T07:14:02.045336",
     "status": "completed"
    },
    "tags": []
   },
   "outputs": [
    {
     "data": {
      "text/html": [
       "<style>\n",
       ".dl-inline {width: auto; margin:0; padding: 0}\n",
       ".dl-inline>dt, .dl-inline>dd {float: none; width: auto; display: inline-block}\n",
       ".dl-inline>dt::after {content: \":\\0020\"; padding-right: .5ex}\n",
       ".dl-inline>dt:not(:first-of-type) {padding-left: .5ex}\n",
       "</style><dl class=dl-inline><dt>2.5 %</dt><dd>0.444021442054497</dd><dt>97.5 %</dt><dd>0.576820958193824</dd></dl>\n"
      ],
      "text/latex": [
       "\\begin{description*}\n",
       "\\item[2.5 \\textbackslash{}\\%] 0.444021442054497\n",
       "\\item[97.5 \\textbackslash{}\\%] 0.576820958193824\n",
       "\\end{description*}\n"
      ],
      "text/markdown": [
       "2.5 %\n",
       ":   0.44402144205449797.5 %\n",
       ":   0.576820958193824\n",
       "\n"
      ],
      "text/plain": [
       "    2.5 %    97.5 % \n",
       "0.4440214 0.5768210 "
      ]
     },
     "metadata": {},
     "output_type": "display_data"
    }
   ],
   "source": [
    "CI[2,] #for slope"
   ]
  },
  {
   "cell_type": "markdown",
   "id": "ec2bbb9f",
   "metadata": {
    "papermill": {
     "duration": 0.048332,
     "end_time": "2021-08-06T07:14:02.209984",
     "exception": false,
     "start_time": "2021-08-06T07:14:02.161652",
     "status": "completed"
    },
    "tags": []
   },
   "source": [
    "> The confidence interval is \n",
    "* 2.5 %0.444021442054497\n",
    "* 97.5 %0.576820958193824"
   ]
  },
  {
   "cell_type": "markdown",
   "id": "fafd41d9",
   "metadata": {
    "papermill": {
     "duration": 0.072894,
     "end_time": "2021-08-06T07:14:02.329080",
     "exception": false,
     "start_time": "2021-08-06T07:14:02.256186",
     "status": "completed"
    },
    "tags": []
   },
   "source": [
    "# Q2"
   ]
  },
  {
   "cell_type": "code",
   "execution_count": 31,
   "id": "debf45e1",
   "metadata": {
    "execution": {
     "iopub.execute_input": "2021-08-06T07:14:02.429252Z",
     "iopub.status.busy": "2021-08-06T07:14:02.427355Z",
     "iopub.status.idle": "2021-08-06T07:14:02.453496Z",
     "shell.execute_reply": "2021-08-06T07:14:02.451944Z"
    },
    "papermill": {
     "duration": 0.076592,
     "end_time": "2021-08-06T07:14:02.453642",
     "exception": false,
     "start_time": "2021-08-06T07:14:02.377050",
     "status": "completed"
    },
    "tags": []
   },
   "outputs": [],
   "source": [
    "#a\n",
    "data_bp=read.csv(\"../input/pracs1/blood_pressure.csv\")"
   ]
  },
  {
   "cell_type": "code",
   "execution_count": 32,
   "id": "294d0d06",
   "metadata": {
    "execution": {
     "iopub.execute_input": "2021-08-06T07:14:02.552573Z",
     "iopub.status.busy": "2021-08-06T07:14:02.550737Z",
     "iopub.status.idle": "2021-08-06T07:14:02.576819Z",
     "shell.execute_reply": "2021-08-06T07:14:02.575362Z"
    },
    "papermill": {
     "duration": 0.076651,
     "end_time": "2021-08-06T07:14:02.576956",
     "exception": false,
     "start_time": "2021-08-06T07:14:02.500305",
     "status": "completed"
    },
    "tags": []
   },
   "outputs": [
    {
     "data": {
      "text/html": [
       "<table class=\"dataframe\">\n",
       "<caption>A data.frame: 6 × 2</caption>\n",
       "<thead>\n",
       "\t<tr><th></th><th scope=col>Weight</th><th scope=col>Systolic.BP</th></tr>\n",
       "\t<tr><th></th><th scope=col>&lt;int&gt;</th><th scope=col>&lt;int&gt;</th></tr>\n",
       "</thead>\n",
       "<tbody>\n",
       "\t<tr><th scope=row>1</th><td>165</td><td>130</td></tr>\n",
       "\t<tr><th scope=row>2</th><td>167</td><td>133</td></tr>\n",
       "\t<tr><th scope=row>3</th><td>180</td><td>150</td></tr>\n",
       "\t<tr><th scope=row>4</th><td>155</td><td>128</td></tr>\n",
       "\t<tr><th scope=row>5</th><td>212</td><td>151</td></tr>\n",
       "\t<tr><th scope=row>6</th><td>175</td><td>146</td></tr>\n",
       "</tbody>\n",
       "</table>\n"
      ],
      "text/latex": [
       "A data.frame: 6 × 2\n",
       "\\begin{tabular}{r|ll}\n",
       "  & Weight & Systolic.BP\\\\\n",
       "  & <int> & <int>\\\\\n",
       "\\hline\n",
       "\t1 & 165 & 130\\\\\n",
       "\t2 & 167 & 133\\\\\n",
       "\t3 & 180 & 150\\\\\n",
       "\t4 & 155 & 128\\\\\n",
       "\t5 & 212 & 151\\\\\n",
       "\t6 & 175 & 146\\\\\n",
       "\\end{tabular}\n"
      ],
      "text/markdown": [
       "\n",
       "A data.frame: 6 × 2\n",
       "\n",
       "| <!--/--> | Weight &lt;int&gt; | Systolic.BP &lt;int&gt; |\n",
       "|---|---|---|\n",
       "| 1 | 165 | 130 |\n",
       "| 2 | 167 | 133 |\n",
       "| 3 | 180 | 150 |\n",
       "| 4 | 155 | 128 |\n",
       "| 5 | 212 | 151 |\n",
       "| 6 | 175 | 146 |\n",
       "\n"
      ],
      "text/plain": [
       "  Weight Systolic.BP\n",
       "1 165    130        \n",
       "2 167    133        \n",
       "3 180    150        \n",
       "4 155    128        \n",
       "5 212    151        \n",
       "6 175    146        "
      ]
     },
     "metadata": {},
     "output_type": "display_data"
    }
   ],
   "source": [
    "head(data_bp)"
   ]
  },
  {
   "cell_type": "code",
   "execution_count": 33,
   "id": "f2b3e465",
   "metadata": {
    "execution": {
     "iopub.execute_input": "2021-08-06T07:14:02.677343Z",
     "iopub.status.busy": "2021-08-06T07:14:02.675475Z",
     "iopub.status.idle": "2021-08-06T07:14:02.690066Z",
     "shell.execute_reply": "2021-08-06T07:14:02.688614Z"
    },
    "papermill": {
     "duration": 0.066069,
     "end_time": "2021-08-06T07:14:02.690235",
     "exception": false,
     "start_time": "2021-08-06T07:14:02.624166",
     "status": "completed"
    },
    "tags": []
   },
   "outputs": [],
   "source": [
    "x=data_bp$Weight\n",
    "y=data_bp$Systolic.BP"
   ]
  },
  {
   "cell_type": "code",
   "execution_count": 34,
   "id": "2b2dcd5a",
   "metadata": {
    "execution": {
     "iopub.execute_input": "2021-08-06T07:14:02.789668Z",
     "iopub.status.busy": "2021-08-06T07:14:02.787848Z",
     "iopub.status.idle": "2021-08-06T07:14:02.856384Z",
     "shell.execute_reply": "2021-08-06T07:14:02.854746Z"
    },
    "papermill": {
     "duration": 0.119459,
     "end_time": "2021-08-06T07:14:02.856528",
     "exception": false,
     "start_time": "2021-08-06T07:14:02.737069",
     "status": "completed"
    },
    "tags": []
   },
   "outputs": [
    {
     "data": {
      "image/png": "[encoded data removed]"
     },
     "metadata": {
      "image/png": {
       "height": 420,
       "width": 420
      }
     },
     "output_type": "display_data"
    }
   ],
   "source": [
    "plot(x,y)"
   ]
  },
  {
   "cell_type": "code",
   "execution_count": 35,
   "id": "3af903e2",
   "metadata": {
    "execution": {
     "iopub.execute_input": "2021-08-06T07:14:02.958454Z",
     "iopub.status.busy": "2021-08-06T07:14:02.956661Z",
     "iopub.status.idle": "2021-08-06T07:14:02.971490Z",
     "shell.execute_reply": "2021-08-06T07:14:02.970024Z"
    },
    "papermill": {
     "duration": 0.066958,
     "end_time": "2021-08-06T07:14:02.971631",
     "exception": false,
     "start_time": "2021-08-06T07:14:02.904673",
     "status": "completed"
    },
    "tags": []
   },
   "outputs": [],
   "source": [
    "#b\n",
    "m2=lm(y~x,data=data_bp)"
   ]
  },
  {
   "cell_type": "code",
   "execution_count": 36,
   "id": "903b221e",
   "metadata": {
    "execution": {
     "iopub.execute_input": "2021-08-06T07:14:03.077830Z",
     "iopub.status.busy": "2021-08-06T07:14:03.075903Z",
     "iopub.status.idle": "2021-08-06T07:14:03.151601Z",
     "shell.execute_reply": "2021-08-06T07:14:03.150215Z"
    },
    "papermill": {
     "duration": 0.131982,
     "end_time": "2021-08-06T07:14:03.151731",
     "exception": false,
     "start_time": "2021-08-06T07:14:03.019749",
     "status": "completed"
    },
    "tags": []
   },
   "outputs": [
    {
     "data": {
      "image/png": "[encoded data removed]"
     },
     "metadata": {
      "image/png": {
       "height": 420,
       "width": 420
      }
     },
     "output_type": "display_data"
    }
   ],
   "source": [
    "#Ploting Regression Line on scatter plot of X and Y\n",
    "plot(x,y,xlab = \"Weight\",ylab= \"Systolic.BP\")\n",
    "abline(m2)\n"
   ]
  },
  {
   "cell_type": "code",
   "execution_count": 37,
   "id": "f88ae40c",
   "metadata": {
    "execution": {
     "iopub.execute_input": "2021-08-06T07:14:03.258045Z",
     "iopub.status.busy": "2021-08-06T07:14:03.256215Z",
     "iopub.status.idle": "2021-08-06T07:14:03.281618Z",
     "shell.execute_reply": "2021-08-06T07:14:03.280121Z"
    },
    "papermill": {
     "duration": 0.079745,
     "end_time": "2021-08-06T07:14:03.281764",
     "exception": false,
     "start_time": "2021-08-06T07:14:03.202019",
     "status": "completed"
    },
    "tags": []
   },
   "outputs": [
    {
     "data": {
      "text/html": [
       "<table class=\"dataframe\">\n",
       "<caption>A anova: 2 × 5</caption>\n",
       "<thead>\n",
       "\t<tr><th></th><th scope=col>Df</th><th scope=col>Sum Sq</th><th scope=col>Mean Sq</th><th scope=col>F value</th><th scope=col>Pr(&gt;F)</th></tr>\n",
       "\t<tr><th></th><th scope=col>&lt;int&gt;</th><th scope=col>&lt;dbl&gt;</th><th scope=col>&lt;dbl&gt;</th><th scope=col>&lt;dbl&gt;</th><th scope=col>&lt;dbl&gt;</th></tr>\n",
       "</thead>\n",
       "<tbody>\n",
       "\t<tr><th scope=row>x</th><td> 1</td><td>2693.581</td><td>2693.58122</td><td>35.74418</td><td>3.591105e-06</td></tr>\n",
       "\t<tr><th scope=row>Residuals</th><td>24</td><td>1808.573</td><td>  75.35719</td><td>      NA</td><td>          NA</td></tr>\n",
       "</tbody>\n",
       "</table>\n"
      ],
      "text/latex": [
       "A anova: 2 × 5\n",
       "\\begin{tabular}{r|lllll}\n",
       "  & Df & Sum Sq & Mean Sq & F value & Pr(>F)\\\\\n",
       "  & <int> & <dbl> & <dbl> & <dbl> & <dbl>\\\\\n",
       "\\hline\n",
       "\tx &  1 & 2693.581 & 2693.58122 & 35.74418 & 3.591105e-06\\\\\n",
       "\tResiduals & 24 & 1808.573 &   75.35719 &       NA &           NA\\\\\n",
       "\\end{tabular}\n"
      ],
      "text/markdown": [
       "\n",
       "A anova: 2 × 5\n",
       "\n",
       "| <!--/--> | Df &lt;int&gt; | Sum Sq &lt;dbl&gt; | Mean Sq &lt;dbl&gt; | F value &lt;dbl&gt; | Pr(&gt;F) &lt;dbl&gt; |\n",
       "|---|---|---|---|---|---|\n",
       "| x |  1 | 2693.581 | 2693.58122 | 35.74418 | 3.591105e-06 |\n",
       "| Residuals | 24 | 1808.573 |   75.35719 |       NA |           NA |\n",
       "\n"
      ],
      "text/plain": [
       "          Df Sum Sq   Mean Sq    F value  Pr(>F)      \n",
       "x          1 2693.581 2693.58122 35.74418 3.591105e-06\n",
       "Residuals 24 1808.573   75.35719       NA           NA"
      ]
     },
     "metadata": {},
     "output_type": "display_data"
    }
   ],
   "source": [
    "#c\n",
    "Anova_table=anova(m2)#ANOVA table\n",
    "Anova_table"
   ]
  },
  {
   "cell_type": "code",
   "execution_count": 38,
   "id": "2e7b251a",
   "metadata": {
    "execution": {
     "iopub.execute_input": "2021-08-06T07:14:03.389677Z",
     "iopub.status.busy": "2021-08-06T07:14:03.387759Z",
     "iopub.status.idle": "2021-08-06T07:14:03.413500Z",
     "shell.execute_reply": "2021-08-06T07:14:03.411909Z"
    },
    "papermill": {
     "duration": 0.08121,
     "end_time": "2021-08-06T07:14:03.413634",
     "exception": false,
     "start_time": "2021-08-06T07:14:03.332424",
     "status": "completed"
    },
    "tags": []
   },
   "outputs": [
    {
     "data": {
      "text/html": [
       "35.7441821355327"
      ],
      "text/latex": [
       "35.7441821355327"
      ],
      "text/markdown": [
       "35.7441821355327"
      ],
      "text/plain": [
       "[1] 35.74418"
      ]
     },
     "metadata": {},
     "output_type": "display_data"
    },
    {
     "data": {
      "text/html": [
       "3.59110511241623e-06"
      ],
      "text/latex": [
       "3.59110511241623e-06"
      ],
      "text/markdown": [
       "3.59110511241623e-06"
      ],
      "text/plain": [
       "[1] 3.591105e-06"
      ]
     },
     "metadata": {},
     "output_type": "display_data"
    }
   ],
   "source": [
    "Anova_table[1,4]\n",
    "Anova_table[1,5]"
   ]
  },
  {
   "cell_type": "markdown",
   "id": "61805c07",
   "metadata": {
    "papermill": {
     "duration": 0.051216,
     "end_time": "2021-08-06T07:14:03.515838",
     "exception": false,
     "start_time": "2021-08-06T07:14:03.464622",
     "status": "completed"
    },
    "tags": []
   },
   "source": [
    "> F val > F tab , we reject the h0"
   ]
  },
  {
   "cell_type": "code",
   "execution_count": 39,
   "id": "7befaa36",
   "metadata": {
    "execution": {
     "iopub.execute_input": "2021-08-06T07:14:03.623950Z",
     "iopub.status.busy": "2021-08-06T07:14:03.623064Z",
     "iopub.status.idle": "2021-08-06T07:14:03.643837Z",
     "shell.execute_reply": "2021-08-06T07:14:03.642556Z"
    },
    "papermill": {
     "duration": 0.076508,
     "end_time": "2021-08-06T07:14:03.643983",
     "exception": false,
     "start_time": "2021-08-06T07:14:03.567475",
     "status": "completed"
    },
    "tags": []
   },
   "outputs": [
    {
     "data": {
      "text/html": [
       "<table class=\"dataframe\">\n",
       "<caption>A matrix: 2 × 2 of type dbl</caption>\n",
       "<thead>\n",
       "\t<tr><th></th><th scope=col>5 %</th><th scope=col>95 %</th></tr>\n",
       "</thead>\n",
       "<tbody>\n",
       "\t<tr><th scope=row>(Intercept)</th><td>47.016664</td><td>91.1920816</td></tr>\n",
       "\t<tr><th scope=row>x</th><td> 0.299393</td><td> 0.5394374</td></tr>\n",
       "</tbody>\n",
       "</table>\n"
      ],
      "text/latex": [
       "A matrix: 2 × 2 of type dbl\n",
       "\\begin{tabular}{r|ll}\n",
       "  & 5 \\% & 95 \\%\\\\\n",
       "\\hline\n",
       "\t(Intercept) & 47.016664 & 91.1920816\\\\\n",
       "\tx &  0.299393 &  0.5394374\\\\\n",
       "\\end{tabular}\n"
      ],
      "text/markdown": [
       "\n",
       "A matrix: 2 × 2 of type dbl\n",
       "\n",
       "| <!--/--> | 5 % | 95 % |\n",
       "|---|---|---|\n",
       "| (Intercept) | 47.016664 | 91.1920816 |\n",
       "| x |  0.299393 |  0.5394374 |\n",
       "\n"
      ],
      "text/plain": [
       "            5 %       95 %      \n",
       "(Intercept) 47.016664 91.1920816\n",
       "x            0.299393  0.5394374"
      ]
     },
     "metadata": {},
     "output_type": "display_data"
    }
   ],
   "source": [
    "#d\n",
    "CI=confint(m2,level=0.90)#confidence Interval for parameter\n",
    "CI\n"
   ]
  },
  {
   "cell_type": "code",
   "execution_count": 40,
   "id": "0312844d",
   "metadata": {
    "execution": {
     "iopub.execute_input": "2021-08-06T07:14:03.753208Z",
     "iopub.status.busy": "2021-08-06T07:14:03.751798Z",
     "iopub.status.idle": "2021-08-06T07:14:03.767052Z",
     "shell.execute_reply": "2021-08-06T07:14:03.765774Z"
    },
    "papermill": {
     "duration": 0.070525,
     "end_time": "2021-08-06T07:14:03.767202",
     "exception": false,
     "start_time": "2021-08-06T07:14:03.696677",
     "status": "completed"
    },
    "tags": []
   },
   "outputs": [
    {
     "data": {
      "text/html": [
       "<style>\n",
       ".dl-inline {width: auto; margin:0; padding: 0}\n",
       ".dl-inline>dt, .dl-inline>dd {float: none; width: auto; display: inline-block}\n",
       ".dl-inline>dt::after {content: \":\\0020\"; padding-right: .5ex}\n",
       ".dl-inline>dt:not(:first-of-type) {padding-left: .5ex}\n",
       "</style><dl class=dl-inline><dt>5 %</dt><dd>0.299393008214842</dd><dt>95 %</dt><dd>0.539437397616551</dd></dl>\n"
      ],
      "text/latex": [
       "\\begin{description*}\n",
       "\\item[5 \\textbackslash{}\\%] 0.299393008214842\n",
       "\\item[95 \\textbackslash{}\\%] 0.539437397616551\n",
       "\\end{description*}\n"
      ],
      "text/markdown": [
       "5 %\n",
       ":   0.29939300821484295 %\n",
       ":   0.539437397616551\n",
       "\n"
      ],
      "text/plain": [
       "      5 %      95 % \n",
       "0.2993930 0.5394374 "
      ]
     },
     "metadata": {},
     "output_type": "display_data"
    }
   ],
   "source": [
    "CI[2,] #for slope"
   ]
  },
  {
   "cell_type": "code",
   "execution_count": 41,
   "id": "297451d8",
   "metadata": {
    "execution": {
     "iopub.execute_input": "2021-08-06T07:14:03.879547Z",
     "iopub.status.busy": "2021-08-06T07:14:03.877587Z",
     "iopub.status.idle": "2021-08-06T07:14:03.901782Z",
     "shell.execute_reply": "2021-08-06T07:14:03.900248Z"
    },
    "papermill": {
     "duration": 0.080994,
     "end_time": "2021-08-06T07:14:03.901912",
     "exception": false,
     "start_time": "2021-08-06T07:14:03.820918",
     "status": "completed"
    },
    "tags": []
   },
   "outputs": [
    {
     "data": {
      "text/plain": [
       "\n",
       "Call:\n",
       "lm(formula = y ~ x, data = data_bp)\n",
       "\n",
       "Residuals:\n",
       "    Min      1Q  Median      3Q     Max \n",
       "-17.182  -6.485  -2.519   8.926  12.143 \n",
       "\n",
       "Coefficients:\n",
       "            Estimate Std. Error t value Pr(>|t|)    \n",
       "(Intercept) 69.10437   12.91013   5.353 1.71e-05 ***\n",
       "x            0.41942    0.07015   5.979 3.59e-06 ***\n",
       "---\n",
       "Signif. codes:  0 ‘***’ 0.001 ‘**’ 0.01 ‘*’ 0.05 ‘.’ 0.1 ‘ ’ 1\n",
       "\n",
       "Residual standard error: 8.681 on 24 degrees of freedom\n",
       "Multiple R-squared:  0.5983,\tAdjusted R-squared:  0.5815 \n",
       "F-statistic: 35.74 on 1 and 24 DF,  p-value: 3.591e-06\n"
      ]
     },
     "metadata": {},
     "output_type": "display_data"
    }
   ],
   "source": [
    "p=summary(m2)#returns summary of the model\n",
    "p"
   ]
  },
  {
   "cell_type": "code",
   "execution_count": 42,
   "id": "9acf2a7b",
   "metadata": {
    "execution": {
     "iopub.execute_input": "2021-08-06T07:14:04.012372Z",
     "iopub.status.busy": "2021-08-06T07:14:04.010460Z",
     "iopub.status.idle": "2021-08-06T07:14:04.030301Z",
     "shell.execute_reply": "2021-08-06T07:14:04.028726Z"
    },
    "papermill": {
     "duration": 0.07639,
     "end_time": "2021-08-06T07:14:04.030451",
     "exception": false,
     "start_time": "2021-08-06T07:14:03.954061",
     "status": "completed"
    },
    "tags": []
   },
   "outputs": [
    {
     "data": {
      "text/html": [
       "59.828724501484"
      ],
      "text/latex": [
       "59.828724501484"
      ],
      "text/markdown": [
       "59.828724501484"
      ],
      "text/plain": [
       "[1] 59.82872"
      ]
     },
     "metadata": {},
     "output_type": "display_data"
    }
   ],
   "source": [
    "#e\n",
    "R2=p$r.squared\n",
    "R2*100\n",
    "#Variability percent"
   ]
  },
  {
   "cell_type": "markdown",
   "id": "f0a16aa1",
   "metadata": {
    "papermill": {
     "duration": 0.052436,
     "end_time": "2021-08-06T07:14:04.135298",
     "exception": false,
     "start_time": "2021-08-06T07:14:04.082862",
     "status": "completed"
    },
    "tags": []
   },
   "source": [
    "> 59.82% variability is explained"
   ]
  },
  {
   "cell_type": "code",
   "execution_count": 43,
   "id": "def8d1b4",
   "metadata": {
    "execution": {
     "iopub.execute_input": "2021-08-06T07:14:04.246324Z",
     "iopub.status.busy": "2021-08-06T07:14:04.244958Z",
     "iopub.status.idle": "2021-08-06T07:14:04.287707Z",
     "shell.execute_reply": "2021-08-06T07:14:04.286303Z"
    },
    "papermill": {
     "duration": 0.099809,
     "end_time": "2021-08-06T07:14:04.287842",
     "exception": false,
     "start_time": "2021-08-06T07:14:04.188033",
     "status": "completed"
    },
    "tags": []
   },
   "outputs": [
    {
     "name": "stderr",
     "output_type": "stream",
     "text": [
      "Warning message:\n",
      "“'newdata' had 1 row but variables found have 26 rows”\n"
     ]
    },
    {
     "data": {
      "text/html": [
       "<table class=\"dataframe\">\n",
       "<caption>A matrix: 26 × 3 of type dbl</caption>\n",
       "<thead>\n",
       "\t<tr><th></th><th scope=col>fit</th><th scope=col>lwr</th><th scope=col>upr</th></tr>\n",
       "</thead>\n",
       "<tbody>\n",
       "\t<tr><th scope=row>1</th><td>138.3079</td><td>134.7222</td><td>141.8935</td></tr>\n",
       "\t<tr><th scope=row>2</th><td>139.1467</td><td>135.6956</td><td>142.5979</td></tr>\n",
       "\t<tr><th scope=row>3</th><td>144.5991</td><td>141.6719</td><td>147.5263</td></tr>\n",
       "\t<tr><th scope=row>4</th><td>134.1137</td><td>129.7186</td><td>138.5088</td></tr>\n",
       "\t<tr><th scope=row>5</th><td>158.0204</td><td>153.4285</td><td>162.6123</td></tr>\n",
       "\t<tr><th scope=row>6</th><td>142.5020</td><td>139.4561</td><td>145.5479</td></tr>\n",
       "\t<tr><th scope=row>7</th><td>148.7933</td><td>145.7419</td><td>151.8446</td></tr>\n",
       "\t<tr><th scope=row>8</th><td>157.1816</td><td>152.7726</td><td>161.5905</td></tr>\n",
       "\t<tr><th scope=row>9</th><td>152.9874</td><td>149.3910</td><td>156.5838</td></tr>\n",
       "\t<tr><th scope=row>10</th><td>131.5972</td><td>126.6398</td><td>136.5547</td></tr>\n",
       "\t<tr><th scope=row>11</th><td>135.3720</td><td>131.2396</td><td>139.5043</td></tr>\n",
       "\t<tr><th scope=row>12</th><td>139.9855</td><td>136.6570</td><td>143.3141</td></tr>\n",
       "\t<tr><th scope=row>13</th><td>140.4050</td><td>137.1328</td><td>143.6771</td></tr>\n",
       "\t<tr><th scope=row>14</th><td>141.2438</td><td>138.0738</td><td>144.4138</td></tr>\n",
       "\t<tr><th scope=row>15</th><td>135.7914</td><td>131.7433</td><td>139.8395</td></tr>\n",
       "\t<tr><th scope=row>16</th><td>139.5661</td><td>136.1778</td><td>142.9544</td></tr>\n",
       "\t<tr><th scope=row>17</th><td>142.0826</td><td>138.9995</td><td>145.1658</td></tr>\n",
       "\t<tr><th scope=row>18</th><td>145.8574</td><td>142.9438</td><td>148.7709</td></tr>\n",
       "\t<tr><th scope=row>19</th><td>159.2786</td><td>154.4030</td><td>164.1543</td></tr>\n",
       "\t<tr><th scope=row>20</th><td>150.8903</td><td>147.6097</td><td>154.1710</td></tr>\n",
       "\t<tr><th scope=row>21</th><td>144.5991</td><td>141.6719</td><td>147.5263</td></tr>\n",
       "\t<tr><th scope=row>22</th><td>129.0807</td><td>123.5245</td><td>134.6370</td></tr>\n",
       "\t<tr><th scope=row>23</th><td>169.7640</td><td>162.2648</td><td>177.2633</td></tr>\n",
       "\t<tr><th scope=row>24</th><td>167.6669</td><td>160.7168</td><td>174.6171</td></tr>\n",
       "\t<tr><th scope=row>25</th><td>149.6321</td><td>146.5008</td><td>152.7634</td></tr>\n",
       "\t<tr><th scope=row>26</th><td>147.5350</td><td>144.5710</td><td>150.4991</td></tr>\n",
       "</tbody>\n",
       "</table>\n"
      ],
      "text/latex": [
       "A matrix: 26 × 3 of type dbl\n",
       "\\begin{tabular}{r|lll}\n",
       "  & fit & lwr & upr\\\\\n",
       "\\hline\n",
       "\t1 & 138.3079 & 134.7222 & 141.8935\\\\\n",
       "\t2 & 139.1467 & 135.6956 & 142.5979\\\\\n",
       "\t3 & 144.5991 & 141.6719 & 147.5263\\\\\n",
       "\t4 & 134.1137 & 129.7186 & 138.5088\\\\\n",
       "\t5 & 158.0204 & 153.4285 & 162.6123\\\\\n",
       "\t6 & 142.5020 & 139.4561 & 145.5479\\\\\n",
       "\t7 & 148.7933 & 145.7419 & 151.8446\\\\\n",
       "\t8 & 157.1816 & 152.7726 & 161.5905\\\\\n",
       "\t9 & 152.9874 & 149.3910 & 156.5838\\\\\n",
       "\t10 & 131.5972 & 126.6398 & 136.5547\\\\\n",
       "\t11 & 135.3720 & 131.2396 & 139.5043\\\\\n",
       "\t12 & 139.9855 & 136.6570 & 143.3141\\\\\n",
       "\t13 & 140.4050 & 137.1328 & 143.6771\\\\\n",
       "\t14 & 141.2438 & 138.0738 & 144.4138\\\\\n",
       "\t15 & 135.7914 & 131.7433 & 139.8395\\\\\n",
       "\t16 & 139.5661 & 136.1778 & 142.9544\\\\\n",
       "\t17 & 142.0826 & 138.9995 & 145.1658\\\\\n",
       "\t18 & 145.8574 & 142.9438 & 148.7709\\\\\n",
       "\t19 & 159.2786 & 154.4030 & 164.1543\\\\\n",
       "\t20 & 150.8903 & 147.6097 & 154.1710\\\\\n",
       "\t21 & 144.5991 & 141.6719 & 147.5263\\\\\n",
       "\t22 & 129.0807 & 123.5245 & 134.6370\\\\\n",
       "\t23 & 169.7640 & 162.2648 & 177.2633\\\\\n",
       "\t24 & 167.6669 & 160.7168 & 174.6171\\\\\n",
       "\t25 & 149.6321 & 146.5008 & 152.7634\\\\\n",
       "\t26 & 147.5350 & 144.5710 & 150.4991\\\\\n",
       "\\end{tabular}\n"
      ],
      "text/markdown": [
       "\n",
       "A matrix: 26 × 3 of type dbl\n",
       "\n",
       "| <!--/--> | fit | lwr | upr |\n",
       "|---|---|---|---|\n",
       "| 1 | 138.3079 | 134.7222 | 141.8935 |\n",
       "| 2 | 139.1467 | 135.6956 | 142.5979 |\n",
       "| 3 | 144.5991 | 141.6719 | 147.5263 |\n",
       "| 4 | 134.1137 | 129.7186 | 138.5088 |\n",
       "| 5 | 158.0204 | 153.4285 | 162.6123 |\n",
       "| 6 | 142.5020 | 139.4561 | 145.5479 |\n",
       "| 7 | 148.7933 | 145.7419 | 151.8446 |\n",
       "| 8 | 157.1816 | 152.7726 | 161.5905 |\n",
       "| 9 | 152.9874 | 149.3910 | 156.5838 |\n",
       "| 10 | 131.5972 | 126.6398 | 136.5547 |\n",
       "| 11 | 135.3720 | 131.2396 | 139.5043 |\n",
       "| 12 | 139.9855 | 136.6570 | 143.3141 |\n",
       "| 13 | 140.4050 | 137.1328 | 143.6771 |\n",
       "| 14 | 141.2438 | 138.0738 | 144.4138 |\n",
       "| 15 | 135.7914 | 131.7433 | 139.8395 |\n",
       "| 16 | 139.5661 | 136.1778 | 142.9544 |\n",
       "| 17 | 142.0826 | 138.9995 | 145.1658 |\n",
       "| 18 | 145.8574 | 142.9438 | 148.7709 |\n",
       "| 19 | 159.2786 | 154.4030 | 164.1543 |\n",
       "| 20 | 150.8903 | 147.6097 | 154.1710 |\n",
       "| 21 | 144.5991 | 141.6719 | 147.5263 |\n",
       "| 22 | 129.0807 | 123.5245 | 134.6370 |\n",
       "| 23 | 169.7640 | 162.2648 | 177.2633 |\n",
       "| 24 | 167.6669 | 160.7168 | 174.6171 |\n",
       "| 25 | 149.6321 | 146.5008 | 152.7634 |\n",
       "| 26 | 147.5350 | 144.5710 | 150.4991 |\n",
       "\n"
      ],
      "text/plain": [
       "   fit      lwr      upr     \n",
       "1  138.3079 134.7222 141.8935\n",
       "2  139.1467 135.6956 142.5979\n",
       "3  144.5991 141.6719 147.5263\n",
       "4  134.1137 129.7186 138.5088\n",
       "5  158.0204 153.4285 162.6123\n",
       "6  142.5020 139.4561 145.5479\n",
       "7  148.7933 145.7419 151.8446\n",
       "8  157.1816 152.7726 161.5905\n",
       "9  152.9874 149.3910 156.5838\n",
       "10 131.5972 126.6398 136.5547\n",
       "11 135.3720 131.2396 139.5043\n",
       "12 139.9855 136.6570 143.3141\n",
       "13 140.4050 137.1328 143.6771\n",
       "14 141.2438 138.0738 144.4138\n",
       "15 135.7914 131.7433 139.8395\n",
       "16 139.5661 136.1778 142.9544\n",
       "17 142.0826 138.9995 145.1658\n",
       "18 145.8574 142.9438 148.7709\n",
       "19 159.2786 154.4030 164.1543\n",
       "20 150.8903 147.6097 154.1710\n",
       "21 144.5991 141.6719 147.5263\n",
       "22 129.0807 123.5245 134.6370\n",
       "23 169.7640 162.2648 177.2633\n",
       "24 167.6669 160.7168 174.6171\n",
       "25 149.6321 146.5008 152.7634\n",
       "26 147.5350 144.5710 150.4991"
      ]
     },
     "metadata": {},
     "output_type": "display_data"
    }
   ],
   "source": [
    "#e\n",
    "new.data=data.frame(Weight=c(150))\n",
    "predict_CI_new=predict(m2,interval=\"confidence\",level=0.90,newdata=new.data)\n",
    "predict_CI_new\n",
    "\n"
   ]
  },
  {
   "cell_type": "markdown",
   "id": "acc3f9df",
   "metadata": {
    "papermill": {
     "duration": 0.055284,
     "end_time": "2021-08-06T07:14:04.397562",
     "exception": false,
     "start_time": "2021-08-06T07:14:04.342278",
     "status": "completed"
    },
    "tags": []
   },
   "source": [
    "# Q3"
   ]
  },
  {
   "cell_type": "code",
   "execution_count": 44,
   "id": "76fba5a8",
   "metadata": {
    "execution": {
     "iopub.execute_input": "2021-08-06T07:14:04.513680Z",
     "iopub.status.busy": "2021-08-06T07:14:04.513094Z",
     "iopub.status.idle": "2021-08-06T07:14:04.530377Z",
     "shell.execute_reply": "2021-08-06T07:14:04.529069Z"
    },
    "papermill": {
     "duration": 0.079172,
     "end_time": "2021-08-06T07:14:04.530518",
     "exception": false,
     "start_time": "2021-08-06T07:14:04.451346",
     "status": "completed"
    },
    "tags": []
   },
   "outputs": [],
   "source": [
    "#a\n",
    "data_hts=read.table(\"../input/heightsdata/heights.txt\")"
   ]
  },
  {
   "cell_type": "code",
   "execution_count": 45,
   "id": "9bc96a18",
   "metadata": {
    "execution": {
     "iopub.execute_input": "2021-08-06T07:14:04.645733Z",
     "iopub.status.busy": "2021-08-06T07:14:04.644302Z",
     "iopub.status.idle": "2021-08-06T07:14:04.669527Z",
     "shell.execute_reply": "2021-08-06T07:14:04.668038Z"
    },
    "papermill": {
     "duration": 0.085598,
     "end_time": "2021-08-06T07:14:04.669662",
     "exception": false,
     "start_time": "2021-08-06T07:14:04.584064",
     "status": "completed"
    },
    "tags": []
   },
   "outputs": [
    {
     "data": {
      "text/html": [
       "<table class=\"dataframe\">\n",
       "<caption>A data.frame: 6 × 2</caption>\n",
       "<thead>\n",
       "\t<tr><th></th><th scope=col>Mheight</th><th scope=col>Dheight</th></tr>\n",
       "\t<tr><th></th><th scope=col>&lt;dbl&gt;</th><th scope=col>&lt;dbl&gt;</th></tr>\n",
       "</thead>\n",
       "<tbody>\n",
       "\t<tr><th scope=row>1</th><td>59.7</td><td>55.1</td></tr>\n",
       "\t<tr><th scope=row>2</th><td>58.2</td><td>56.5</td></tr>\n",
       "\t<tr><th scope=row>3</th><td>60.6</td><td>56.0</td></tr>\n",
       "\t<tr><th scope=row>4</th><td>60.7</td><td>56.8</td></tr>\n",
       "\t<tr><th scope=row>5</th><td>61.8</td><td>56.0</td></tr>\n",
       "\t<tr><th scope=row>6</th><td>55.5</td><td>57.9</td></tr>\n",
       "</tbody>\n",
       "</table>\n"
      ],
      "text/latex": [
       "A data.frame: 6 × 2\n",
       "\\begin{tabular}{r|ll}\n",
       "  & Mheight & Dheight\\\\\n",
       "  & <dbl> & <dbl>\\\\\n",
       "\\hline\n",
       "\t1 & 59.7 & 55.1\\\\\n",
       "\t2 & 58.2 & 56.5\\\\\n",
       "\t3 & 60.6 & 56.0\\\\\n",
       "\t4 & 60.7 & 56.8\\\\\n",
       "\t5 & 61.8 & 56.0\\\\\n",
       "\t6 & 55.5 & 57.9\\\\\n",
       "\\end{tabular}\n"
      ],
      "text/markdown": [
       "\n",
       "A data.frame: 6 × 2\n",
       "\n",
       "| <!--/--> | Mheight &lt;dbl&gt; | Dheight &lt;dbl&gt; |\n",
       "|---|---|---|\n",
       "| 1 | 59.7 | 55.1 |\n",
       "| 2 | 58.2 | 56.5 |\n",
       "| 3 | 60.6 | 56.0 |\n",
       "| 4 | 60.7 | 56.8 |\n",
       "| 5 | 61.8 | 56.0 |\n",
       "| 6 | 55.5 | 57.9 |\n",
       "\n"
      ],
      "text/plain": [
       "  Mheight Dheight\n",
       "1 59.7    55.1   \n",
       "2 58.2    56.5   \n",
       "3 60.6    56.0   \n",
       "4 60.7    56.8   \n",
       "5 61.8    56.0   \n",
       "6 55.5    57.9   "
      ]
     },
     "metadata": {},
     "output_type": "display_data"
    }
   ],
   "source": [
    "head(data_hts)"
   ]
  },
  {
   "cell_type": "code",
   "execution_count": 46,
   "id": "e60676bb",
   "metadata": {
    "execution": {
     "iopub.execute_input": "2021-08-06T07:14:04.784459Z",
     "iopub.status.busy": "2021-08-06T07:14:04.782643Z",
     "iopub.status.idle": "2021-08-06T07:14:04.797444Z",
     "shell.execute_reply": "2021-08-06T07:14:04.795962Z"
    },
    "papermill": {
     "duration": 0.073621,
     "end_time": "2021-08-06T07:14:04.797584",
     "exception": false,
     "start_time": "2021-08-06T07:14:04.723963",
     "status": "completed"
    },
    "tags": []
   },
   "outputs": [],
   "source": [
    "x=data_hts$Mheight\n",
    "y=data_hts$Dheight"
   ]
  },
  {
   "cell_type": "code",
   "execution_count": 47,
   "id": "9c6b8b6d",
   "metadata": {
    "execution": {
     "iopub.execute_input": "2021-08-06T07:14:04.918629Z",
     "iopub.status.busy": "2021-08-06T07:14:04.916466Z",
     "iopub.status.idle": "2021-08-06T07:14:04.995961Z",
     "shell.execute_reply": "2021-08-06T07:14:04.994543Z"
    },
    "papermill": {
     "duration": 0.144105,
     "end_time": "2021-08-06T07:14:04.996092",
     "exception": false,
     "start_time": "2021-08-06T07:14:04.851987",
     "status": "completed"
    },
    "tags": []
   },
   "outputs": [
    {
     "data": {
      "image/png": "[encoded data removed]"
     },
     "metadata": {
      "image/png": {
       "height": 420,
       "width": 420
      }
     },
     "output_type": "display_data"
    }
   ],
   "source": [
    "plot(x,y)"
   ]
  },
  {
   "cell_type": "code",
   "execution_count": 48,
   "id": "eb811e7a",
   "metadata": {
    "execution": {
     "iopub.execute_input": "2021-08-06T07:14:05.115111Z",
     "iopub.status.busy": "2021-08-06T07:14:05.113328Z",
     "iopub.status.idle": "2021-08-06T07:14:05.131719Z",
     "shell.execute_reply": "2021-08-06T07:14:05.126464Z"
    },
    "papermill": {
     "duration": 0.078113,
     "end_time": "2021-08-06T07:14:05.131878",
     "exception": false,
     "start_time": "2021-08-06T07:14:05.053765",
     "status": "completed"
    },
    "tags": []
   },
   "outputs": [],
   "source": [
    "m3=lm(y~x,data=data_hts)"
   ]
  },
  {
   "cell_type": "code",
   "execution_count": 49,
   "id": "a5e8e391",
   "metadata": {
    "execution": {
     "iopub.execute_input": "2021-08-06T07:14:05.256542Z",
     "iopub.status.busy": "2021-08-06T07:14:05.254640Z",
     "iopub.status.idle": "2021-08-06T07:14:05.331530Z",
     "shell.execute_reply": "2021-08-06T07:14:05.329876Z"
    },
    "papermill": {
     "duration": 0.144029,
     "end_time": "2021-08-06T07:14:05.331671",
     "exception": false,
     "start_time": "2021-08-06T07:14:05.187642",
     "status": "completed"
    },
    "tags": []
   },
   "outputs": [
    {
     "data": {
      "image/png": "[encoded data removed]"
     },
     "metadata": {
      "image/png": {
       "height": 420,
       "width": 420
      }
     },
     "output_type": "display_data"
    }
   ],
   "source": [
    "#Ploting Regression Line on scatter plot of X and Y\n",
    "plot(x,y,xlab = \"Mheight\",ylab= \"Mheight\")\n",
    "abline(m3)"
   ]
  },
  {
   "cell_type": "code",
   "execution_count": 50,
   "id": "aee8cd0a",
   "metadata": {
    "execution": {
     "iopub.execute_input": "2021-08-06T07:14:05.451492Z",
     "iopub.status.busy": "2021-08-06T07:14:05.450048Z",
     "iopub.status.idle": "2021-08-06T07:14:05.471080Z",
     "shell.execute_reply": "2021-08-06T07:14:05.469715Z"
    },
    "papermill": {
     "duration": 0.081832,
     "end_time": "2021-08-06T07:14:05.471235",
     "exception": false,
     "start_time": "2021-08-06T07:14:05.389403",
     "status": "completed"
    },
    "tags": []
   },
   "outputs": [
    {
     "data": {
      "text/html": [
       "<table class=\"dataframe\">\n",
       "<caption>A matrix: 2 × 2 of type dbl</caption>\n",
       "<thead>\n",
       "\t<tr><th></th><th scope=col>0.5 %</th><th scope=col>99.5 %</th></tr>\n",
       "</thead>\n",
       "<tbody>\n",
       "\t<tr><th scope=row>(Intercept)</th><td>49.2982529</td><td>72.0936300</td></tr>\n",
       "\t<tr><th scope=row>x</th><td>-0.2408608</td><td> 0.1426813</td></tr>\n",
       "</tbody>\n",
       "</table>\n"
      ],
      "text/latex": [
       "A matrix: 2 × 2 of type dbl\n",
       "\\begin{tabular}{r|ll}\n",
       "  & 0.5 \\% & 99.5 \\%\\\\\n",
       "\\hline\n",
       "\t(Intercept) & 49.2982529 & 72.0936300\\\\\n",
       "\tx & -0.2408608 &  0.1426813\\\\\n",
       "\\end{tabular}\n"
      ],
      "text/markdown": [
       "\n",
       "A matrix: 2 × 2 of type dbl\n",
       "\n",
       "| <!--/--> | 0.5 % | 99.5 % |\n",
       "|---|---|---|\n",
       "| (Intercept) | 49.2982529 | 72.0936300 |\n",
       "| x | -0.2408608 |  0.1426813 |\n",
       "\n"
      ],
      "text/plain": [
       "            0.5 %      99.5 %    \n",
       "(Intercept) 49.2982529 72.0936300\n",
       "x           -0.2408608  0.1426813"
      ]
     },
     "metadata": {},
     "output_type": "display_data"
    }
   ],
   "source": [
    "#b\n",
    "CI=confint(m3,level=0.99)#confidence Interval for parameter\n",
    "CI"
   ]
  },
  {
   "cell_type": "code",
   "execution_count": 51,
   "id": "4c48fa8e",
   "metadata": {
    "execution": {
     "iopub.execute_input": "2021-08-06T07:14:05.594835Z",
     "iopub.status.busy": "2021-08-06T07:14:05.592577Z",
     "iopub.status.idle": "2021-08-06T07:14:05.619506Z",
     "shell.execute_reply": "2021-08-06T07:14:05.617887Z"
    },
    "papermill": {
     "duration": 0.091117,
     "end_time": "2021-08-06T07:14:05.619682",
     "exception": false,
     "start_time": "2021-08-06T07:14:05.528565",
     "status": "completed"
    },
    "tags": []
   },
   "outputs": [
    {
     "data": {
      "text/html": [
       "<style>\n",
       ".dl-inline {width: auto; margin:0; padding: 0}\n",
       ".dl-inline>dt, .dl-inline>dd {float: none; width: auto; display: inline-block}\n",
       ".dl-inline>dt::after {content: \":\\0020\"; padding-right: .5ex}\n",
       ".dl-inline>dt:not(:first-of-type) {padding-left: .5ex}\n",
       "</style><dl class=dl-inline><dt>0.5 %</dt><dd>-0.240860801734633</dd><dt>99.5 %</dt><dd>0.142681295290664</dd></dl>\n"
      ],
      "text/latex": [
       "\\begin{description*}\n",
       "\\item[0.5 \\textbackslash{}\\%] -0.240860801734633\n",
       "\\item[99.5 \\textbackslash{}\\%] 0.142681295290664\n",
       "\\end{description*}\n"
      ],
      "text/markdown": [
       "0.5 %\n",
       ":   -0.24086080173463399.5 %\n",
       ":   0.142681295290664\n",
       "\n"
      ],
      "text/plain": [
       "     0.5 %     99.5 % \n",
       "-0.2408608  0.1426813 "
      ]
     },
     "metadata": {},
     "output_type": "display_data"
    }
   ],
   "source": [
    "CI[2,]"
   ]
  },
  {
   "cell_type": "markdown",
   "id": "272545af",
   "metadata": {
    "papermill": {
     "duration": 0.057982,
     "end_time": "2021-08-06T07:14:05.737667",
     "exception": false,
     "start_time": "2021-08-06T07:14:05.679685",
     "status": "completed"
    },
    "tags": []
   },
   "source": [
    "> 1 is not included in Confidence Interval"
   ]
  },
  {
   "cell_type": "code",
   "execution_count": 52,
   "id": "24bd8159",
   "metadata": {
    "execution": {
     "iopub.execute_input": "2021-08-06T07:14:05.861884Z",
     "iopub.status.busy": "2021-08-06T07:14:05.859976Z",
     "iopub.status.idle": "2021-08-06T07:14:05.881595Z",
     "shell.execute_reply": "2021-08-06T07:14:05.879910Z"
    },
    "papermill": {
     "duration": 0.085289,
     "end_time": "2021-08-06T07:14:05.881747",
     "exception": false,
     "start_time": "2021-08-06T07:14:05.796458",
     "status": "completed"
    },
    "tags": []
   },
   "outputs": [
    {
     "data": {
      "text/plain": [
       "\n",
       "Call:\n",
       "lm(formula = y ~ x, data = data_hts)\n",
       "\n",
       "Residuals:\n",
       "    Min      1Q  Median      3Q     Max \n",
       "-2.6653 -0.6469  0.1194  0.8017  1.7022 \n",
       "\n",
       "Coefficients:\n",
       "            Estimate Std. Error t value Pr(>|t|)    \n",
       "(Intercept) 60.69594    4.17743  14.529  3.8e-16 ***\n",
       "x           -0.04909    0.07029  -0.698     0.49    \n",
       "---\n",
       "Signif. codes:  0 ‘***’ 0.001 ‘**’ 0.01 ‘*’ 0.05 ‘.’ 0.1 ‘ ’ 1\n",
       "\n",
       "Residual standard error: 0.9746 on 34 degrees of freedom\n",
       "Multiple R-squared:  0.01414,\tAdjusted R-squared:  -0.01485 \n",
       "F-statistic: 0.4878 on 1 and 34 DF,  p-value: 0.4897\n"
      ]
     },
     "metadata": {},
     "output_type": "display_data"
    }
   ],
   "source": [
    "#c\n",
    "o=summary(m3)#returns summary of the model\n",
    "o"
   ]
  },
  {
   "cell_type": "code",
   "execution_count": 53,
   "id": "58e5d74b",
   "metadata": {
    "execution": {
     "iopub.execute_input": "2021-08-06T07:14:06.007111Z",
     "iopub.status.busy": "2021-08-06T07:14:06.005696Z",
     "iopub.status.idle": "2021-08-06T07:14:06.024360Z",
     "shell.execute_reply": "2021-08-06T07:14:06.022998Z"
    },
    "papermill": {
     "duration": 0.081806,
     "end_time": "2021-08-06T07:14:06.024498",
     "exception": false,
     "start_time": "2021-08-06T07:14:05.942692",
     "status": "completed"
    },
    "tags": []
   },
   "outputs": [
    {
     "data": {
      "text/html": [
       "0.0141437502053894"
      ],
      "text/latex": [
       "0.0141437502053894"
      ],
      "text/markdown": [
       "0.0141437502053894"
      ],
      "text/plain": [
       "[1] 0.01414375"
      ]
     },
     "metadata": {},
     "output_type": "display_data"
    }
   ],
   "source": [
    "#c\n",
    "R2=o$r.squared\n",
    "R2\n"
   ]
  },
  {
   "cell_type": "code",
   "execution_count": 54,
   "id": "229cacb2",
   "metadata": {
    "execution": {
     "iopub.execute_input": "2021-08-06T07:14:06.147639Z",
     "iopub.status.busy": "2021-08-06T07:14:06.145868Z",
     "iopub.status.idle": "2021-08-06T07:14:06.194849Z",
     "shell.execute_reply": "2021-08-06T07:14:06.193465Z"
    },
    "papermill": {
     "duration": 0.111724,
     "end_time": "2021-08-06T07:14:06.194991",
     "exception": false,
     "start_time": "2021-08-06T07:14:06.083267",
     "status": "completed"
    },
    "tags": []
   },
   "outputs": [
    {
     "name": "stderr",
     "output_type": "stream",
     "text": [
      "Warning message:\n",
      "“'newdata' had 1 row but variables found have 36 rows”\n"
     ]
    },
    {
     "data": {
      "text/html": [
       "<table class=\"dataframe\">\n",
       "<caption>A matrix: 36 × 3 of type dbl</caption>\n",
       "<thead>\n",
       "\t<tr><th></th><th scope=col>fit</th><th scope=col>lwr</th><th scope=col>upr</th></tr>\n",
       "</thead>\n",
       "<tbody>\n",
       "\t<tr><th scope=row>1</th><td>57.76528</td><td>57.31811</td><td>58.21245</td></tr>\n",
       "\t<tr><th scope=row>2</th><td>57.83892</td><td>57.34054</td><td>58.33730</td></tr>\n",
       "\t<tr><th scope=row>3</th><td>57.72110</td><td>57.22076</td><td>58.22145</td></tr>\n",
       "\t<tr><th scope=row>4</th><td>57.71619</td><td>57.20667</td><td>58.22572</td></tr>\n",
       "\t<tr><th scope=row>5</th><td>57.66219</td><td>57.02173</td><td>58.30266</td></tr>\n",
       "\t<tr><th scope=row>6</th><td>57.97146</td><td>57.10394</td><td>58.83898</td></tr>\n",
       "\t<tr><th scope=row>7</th><td>57.97637</td><td>57.09231</td><td>58.86042</td></tr>\n",
       "\t<tr><th scope=row>8</th><td>57.90764</td><td>57.24215</td><td>58.57314</td></tr>\n",
       "\t<tr><th scope=row>9</th><td>57.87328</td><td>57.30090</td><td>58.44566</td></tr>\n",
       "\t<tr><th scope=row>10</th><td>57.88310</td><td>57.28571</td><td>58.48049</td></tr>\n",
       "\t<tr><th scope=row>11</th><td>57.82419</td><td>57.34937</td><td>58.29902</td></tr>\n",
       "\t<tr><th scope=row>12</th><td>57.76528</td><td>57.31811</td><td>58.21245</td></tr>\n",
       "\t<tr><th scope=row>13</th><td>57.79965</td><td>57.35024</td><td>58.24905</td></tr>\n",
       "\t<tr><th scope=row>14</th><td>57.73092</td><td>57.24719</td><td>58.21465</td></tr>\n",
       "\t<tr><th scope=row>15</th><td>57.74074</td><td>57.27106</td><td>58.21041</td></tr>\n",
       "\t<tr><th scope=row>16</th><td>57.73583</td><td>57.25946</td><td>58.21220</td></tr>\n",
       "\t<tr><th scope=row>17</th><td>57.65729</td><td>57.00284</td><td>58.31173</td></tr>\n",
       "\t<tr><th scope=row>18</th><td>57.63765</td><td>56.92486</td><td>58.35043</td></tr>\n",
       "\t<tr><th scope=row>19</th><td>57.60329</td><td>56.78112</td><td>58.42546</td></tr>\n",
       "\t<tr><th scope=row>20</th><td>57.52474</td><td>56.43155</td><td>58.61794</td></tr>\n",
       "\t<tr><th scope=row>21</th><td>57.90764</td><td>57.24215</td><td>58.57314</td></tr>\n",
       "\t<tr><th scope=row>22</th><td>57.90273</td><td>57.25142</td><td>58.55405</td></tr>\n",
       "\t<tr><th scope=row>23</th><td>57.85364</td><td>57.32646</td><td>58.38083</td></tr>\n",
       "\t<tr><th scope=row>24</th><td>57.88310</td><td>57.28571</td><td>58.48049</td></tr>\n",
       "\t<tr><th scope=row>25</th><td>57.80946</td><td>57.35213</td><td>58.26680</td></tr>\n",
       "\t<tr><th scope=row>26</th><td>57.82910</td><td>57.34706</td><td>58.31114</td></tr>\n",
       "\t<tr><th scope=row>27</th><td>57.78492</td><td>57.34142</td><td>58.22842</td></tr>\n",
       "\t<tr><th scope=row>28</th><td>57.78492</td><td>57.34142</td><td>58.22842</td></tr>\n",
       "\t<tr><th scope=row>29</th><td>57.79965</td><td>57.35024</td><td>58.24905</td></tr>\n",
       "\t<tr><th scope=row>30</th><td>57.76528</td><td>57.31811</td><td>58.21245</td></tr>\n",
       "\t<tr><th scope=row>31</th><td>57.77510</td><td>57.33142</td><td>58.21878</td></tr>\n",
       "\t<tr><th scope=row>32</th><td>57.73092</td><td>57.24719</td><td>58.21465</td></tr>\n",
       "\t<tr><th scope=row>33</th><td>57.73583</td><td>57.25946</td><td>58.21220</td></tr>\n",
       "\t<tr><th scope=row>34</th><td>57.44620</td><td>56.06689</td><td>58.82551</td></tr>\n",
       "\t<tr><th scope=row>35</th><td>57.89783</td><td>57.26043</td><td>58.53522</td></tr>\n",
       "\t<tr><th scope=row>36</th><td>57.85855</td><td>57.32074</td><td>58.39637</td></tr>\n",
       "</tbody>\n",
       "</table>\n"
      ],
      "text/latex": [
       "A matrix: 36 × 3 of type dbl\n",
       "\\begin{tabular}{r|lll}\n",
       "  & fit & lwr & upr\\\\\n",
       "\\hline\n",
       "\t1 & 57.76528 & 57.31811 & 58.21245\\\\\n",
       "\t2 & 57.83892 & 57.34054 & 58.33730\\\\\n",
       "\t3 & 57.72110 & 57.22076 & 58.22145\\\\\n",
       "\t4 & 57.71619 & 57.20667 & 58.22572\\\\\n",
       "\t5 & 57.66219 & 57.02173 & 58.30266\\\\\n",
       "\t6 & 57.97146 & 57.10394 & 58.83898\\\\\n",
       "\t7 & 57.97637 & 57.09231 & 58.86042\\\\\n",
       "\t8 & 57.90764 & 57.24215 & 58.57314\\\\\n",
       "\t9 & 57.87328 & 57.30090 & 58.44566\\\\\n",
       "\t10 & 57.88310 & 57.28571 & 58.48049\\\\\n",
       "\t11 & 57.82419 & 57.34937 & 58.29902\\\\\n",
       "\t12 & 57.76528 & 57.31811 & 58.21245\\\\\n",
       "\t13 & 57.79965 & 57.35024 & 58.24905\\\\\n",
       "\t14 & 57.73092 & 57.24719 & 58.21465\\\\\n",
       "\t15 & 57.74074 & 57.27106 & 58.21041\\\\\n",
       "\t16 & 57.73583 & 57.25946 & 58.21220\\\\\n",
       "\t17 & 57.65729 & 57.00284 & 58.31173\\\\\n",
       "\t18 & 57.63765 & 56.92486 & 58.35043\\\\\n",
       "\t19 & 57.60329 & 56.78112 & 58.42546\\\\\n",
       "\t20 & 57.52474 & 56.43155 & 58.61794\\\\\n",
       "\t21 & 57.90764 & 57.24215 & 58.57314\\\\\n",
       "\t22 & 57.90273 & 57.25142 & 58.55405\\\\\n",
       "\t23 & 57.85364 & 57.32646 & 58.38083\\\\\n",
       "\t24 & 57.88310 & 57.28571 & 58.48049\\\\\n",
       "\t25 & 57.80946 & 57.35213 & 58.26680\\\\\n",
       "\t26 & 57.82910 & 57.34706 & 58.31114\\\\\n",
       "\t27 & 57.78492 & 57.34142 & 58.22842\\\\\n",
       "\t28 & 57.78492 & 57.34142 & 58.22842\\\\\n",
       "\t29 & 57.79965 & 57.35024 & 58.24905\\\\\n",
       "\t30 & 57.76528 & 57.31811 & 58.21245\\\\\n",
       "\t31 & 57.77510 & 57.33142 & 58.21878\\\\\n",
       "\t32 & 57.73092 & 57.24719 & 58.21465\\\\\n",
       "\t33 & 57.73583 & 57.25946 & 58.21220\\\\\n",
       "\t34 & 57.44620 & 56.06689 & 58.82551\\\\\n",
       "\t35 & 57.89783 & 57.26043 & 58.53522\\\\\n",
       "\t36 & 57.85855 & 57.32074 & 58.39637\\\\\n",
       "\\end{tabular}\n"
      ],
      "text/markdown": [
       "\n",
       "A matrix: 36 × 3 of type dbl\n",
       "\n",
       "| <!--/--> | fit | lwr | upr |\n",
       "|---|---|---|---|\n",
       "| 1 | 57.76528 | 57.31811 | 58.21245 |\n",
       "| 2 | 57.83892 | 57.34054 | 58.33730 |\n",
       "| 3 | 57.72110 | 57.22076 | 58.22145 |\n",
       "| 4 | 57.71619 | 57.20667 | 58.22572 |\n",
       "| 5 | 57.66219 | 57.02173 | 58.30266 |\n",
       "| 6 | 57.97146 | 57.10394 | 58.83898 |\n",
       "| 7 | 57.97637 | 57.09231 | 58.86042 |\n",
       "| 8 | 57.90764 | 57.24215 | 58.57314 |\n",
       "| 9 | 57.87328 | 57.30090 | 58.44566 |\n",
       "| 10 | 57.88310 | 57.28571 | 58.48049 |\n",
       "| 11 | 57.82419 | 57.34937 | 58.29902 |\n",
       "| 12 | 57.76528 | 57.31811 | 58.21245 |\n",
       "| 13 | 57.79965 | 57.35024 | 58.24905 |\n",
       "| 14 | 57.73092 | 57.24719 | 58.21465 |\n",
       "| 15 | 57.74074 | 57.27106 | 58.21041 |\n",
       "| 16 | 57.73583 | 57.25946 | 58.21220 |\n",
       "| 17 | 57.65729 | 57.00284 | 58.31173 |\n",
       "| 18 | 57.63765 | 56.92486 | 58.35043 |\n",
       "| 19 | 57.60329 | 56.78112 | 58.42546 |\n",
       "| 20 | 57.52474 | 56.43155 | 58.61794 |\n",
       "| 21 | 57.90764 | 57.24215 | 58.57314 |\n",
       "| 22 | 57.90273 | 57.25142 | 58.55405 |\n",
       "| 23 | 57.85364 | 57.32646 | 58.38083 |\n",
       "| 24 | 57.88310 | 57.28571 | 58.48049 |\n",
       "| 25 | 57.80946 | 57.35213 | 58.26680 |\n",
       "| 26 | 57.82910 | 57.34706 | 58.31114 |\n",
       "| 27 | 57.78492 | 57.34142 | 58.22842 |\n",
       "| 28 | 57.78492 | 57.34142 | 58.22842 |\n",
       "| 29 | 57.79965 | 57.35024 | 58.24905 |\n",
       "| 30 | 57.76528 | 57.31811 | 58.21245 |\n",
       "| 31 | 57.77510 | 57.33142 | 58.21878 |\n",
       "| 32 | 57.73092 | 57.24719 | 58.21465 |\n",
       "| 33 | 57.73583 | 57.25946 | 58.21220 |\n",
       "| 34 | 57.44620 | 56.06689 | 58.82551 |\n",
       "| 35 | 57.89783 | 57.26043 | 58.53522 |\n",
       "| 36 | 57.85855 | 57.32074 | 58.39637 |\n",
       "\n"
      ],
      "text/plain": [
       "   fit      lwr      upr     \n",
       "1  57.76528 57.31811 58.21245\n",
       "2  57.83892 57.34054 58.33730\n",
       "3  57.72110 57.22076 58.22145\n",
       "4  57.71619 57.20667 58.22572\n",
       "5  57.66219 57.02173 58.30266\n",
       "6  57.97146 57.10394 58.83898\n",
       "7  57.97637 57.09231 58.86042\n",
       "8  57.90764 57.24215 58.57314\n",
       "9  57.87328 57.30090 58.44566\n",
       "10 57.88310 57.28571 58.48049\n",
       "11 57.82419 57.34937 58.29902\n",
       "12 57.76528 57.31811 58.21245\n",
       "13 57.79965 57.35024 58.24905\n",
       "14 57.73092 57.24719 58.21465\n",
       "15 57.74074 57.27106 58.21041\n",
       "16 57.73583 57.25946 58.21220\n",
       "17 57.65729 57.00284 58.31173\n",
       "18 57.63765 56.92486 58.35043\n",
       "19 57.60329 56.78112 58.42546\n",
       "20 57.52474 56.43155 58.61794\n",
       "21 57.90764 57.24215 58.57314\n",
       "22 57.90273 57.25142 58.55405\n",
       "23 57.85364 57.32646 58.38083\n",
       "24 57.88310 57.28571 58.48049\n",
       "25 57.80946 57.35213 58.26680\n",
       "26 57.82910 57.34706 58.31114\n",
       "27 57.78492 57.34142 58.22842\n",
       "28 57.78492 57.34142 58.22842\n",
       "29 57.79965 57.35024 58.24905\n",
       "30 57.76528 57.31811 58.21245\n",
       "31 57.77510 57.33142 58.21878\n",
       "32 57.73092 57.24719 58.21465\n",
       "33 57.73583 57.25946 58.21220\n",
       "34 57.44620 56.06689 58.82551\n",
       "35 57.89783 57.26043 58.53522\n",
       "36 57.85855 57.32074 58.39637"
      ]
     },
     "metadata": {},
     "output_type": "display_data"
    }
   ],
   "source": [
    "#d\n",
    "new.data = data.frame(Mheight=64)\n",
    "predict_CI_new = predict(m3,interval = \"confidence\", level = 0.99, newdata=new.data)\n",
    "predict_CI_new"
   ]
  }
 ],
 "metadata": {
  "kernelspec": {
   "display_name": "R",
   "language": "R",
   "name": "ir"
  },
  "language_info": {
   "codemirror_mode": "r",
   "file_extension": ".r",
   "mimetype": "text/x-r-source",
   "name": "R",
   "pygments_lexer": "r",
   "version": "4.0.5"
  },
  "papermill": {
   "default_parameters": {},
   "duration": 11.716311,
   "end_time": "2021-08-06T07:14:06.363875",
   "environment_variables": {},
   "exception": null,
   "input_path": "__notebook__.ipynb",
   "output_path": "__notebook__.ipynb",
   "parameters": {},
   "start_time": "2021-08-06T07:13:54.647564",
   "version": "2.3.3"
  }
 },
 "nbformat": 4,
 "nbformat_minor": 5
}
